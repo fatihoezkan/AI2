{
 "cells": [
  {
   "cell_type": "markdown",
   "metadata": {},
   "source": [
    "# Weight Initialization"
   ]
  },
  {
   "cell_type": "raw",
   "metadata": {},
   "source": [
    "We need the Python packages for PyTorch and matplotlib for this practical."
   ]
  },
  {
   "cell_type": "markdown",
   "metadata": {},
   "source": [
    "## Our test model for this practical task"
   ]
  },
  {
   "cell_type": "code",
   "execution_count": 19,
   "metadata": {},
   "outputs": [],
   "source": [
    "# Use the below functionality to execute your model (that you will adjust later step by step)\n",
    "# This block of code provides you the functionality to train a model. Results are printed after each epoch\n",
    "\n",
    "import torch\n",
    "import torch.nn as nn\n",
    "import torchvision\n",
    "import torchvision.transforms as transforms\n",
    "import tqdm\n",
    "\n",
    "\n",
    "def load_mnist_data(root_path='./data', batch_size=4):\n",
    "    \"\"\"\n",
    "    Loads MNIST dataset into your directory.\n",
    "    You can change the root_path to point to a already existing path if you want to safe a little bit of memory :)\n",
    "    \"\"\"\n",
    "    transform = transforms.Compose(\n",
    "        [transforms.ToTensor(),\n",
    "        transforms.Normalize((0.5), (0.5))]\n",
    "    )\n",
    "\n",
    "    trainset = torchvision.datasets.MNIST(root=root_path, train=True, download=True, transform=transform)\n",
    "    trainloader = torch.utils.data.DataLoader(trainset, batch_size=batch_size, shuffle=True, num_workers=2)\n",
    "\n",
    "    testset = torchvision.datasets.MNIST(root=root_path, train=False, download=True, transform=transform)\n",
    "    testloader = torch.utils.data.DataLoader(testset, batch_size=batch_size, shuffle=False, num_workers=2)\n",
    "\n",
    "    return trainloader, testloader\n",
    "\n",
    "\n",
    "def train_model(model, batch_size: int = 4, epochs: int = 10):\n",
    "    # we only consider the mnist train data for this example\n",
    "    train_loader, _ = load_mnist_data(root_path='./data', batch_size=batch_size)\n",
    "\n",
    "    device = torch.device('cuda') if torch.cuda.is_available() else torch.device('cpu')\n",
    "\n",
    "    model = model.to(device=device)\n",
    "\n",
    "    criterion = nn.CrossEntropyLoss()\n",
    "    optimizer = torch.optim.SGD(model.parameters(), lr=0.001)\n",
    "\n",
    "    iterations = 0\n",
    "    for epoch in range(epochs):\n",
    "        running_loss = 0.0\n",
    "        running_accuracy = []\n",
    "        for imgs, targets in tqdm.tqdm(train_loader, desc=f'Training iteration {epoch + 1}'):\n",
    "            iterations += 1\n",
    "            imgs, targets = imgs.to(device=device), targets.to(device=device)\n",
    "\n",
    "            # zero the parameter gradients\n",
    "            optimizer.zero_grad()\n",
    "\n",
    "            # forward + backward + optimize\n",
    "            outputs = model(imgs.reshape(imgs.shape[0], -1))\n",
    "\n",
    "            loss = criterion(outputs, targets)\n",
    "            loss.backward()\n",
    "            optimizer.step()\n",
    "\n",
    "            # print statistics\n",
    "            running_loss += loss.item()\n",
    "\n",
    "            # Calculate the Accuracy (how many of all samples are correctly classified?)\n",
    "            max_outputs = torch.max(outputs, dim=1).indices\n",
    "            accuracy = (max_outputs.detach() == targets.detach()).to(dtype=torch.float32).mean()\n",
    "            running_accuracy.append(accuracy)\n",
    "    \n",
    "        print(f'Epoch {epoch + 1} finished with loss: {running_loss / len(train_loader):.3f} and accuracy {torch.tensor(running_accuracy).mean():.3f}')"
   ]
  },
  {
   "cell_type": "markdown",
   "metadata": {},
   "source": [
    "## Training progress with different weight settings"
   ]
  },
  {
   "cell_type": "code",
   "execution_count": 20,
   "metadata": {},
   "outputs": [
    {
     "name": "stdout",
     "output_type": "stream",
     "text": [
      "Sequential(\n",
      "  (0): Linear(in_features=784, out_features=32, bias=True)\n",
      "  (1): Linear(in_features=32, out_features=32, bias=True)\n",
      "  (2): Linear(in_features=32, out_features=10, bias=True)\n",
      ")\n"
     ]
    }
   ],
   "source": [
    "# You can use this model for your tests (of course you can change the architecture a little, but it should not be necessary.)\n",
    "import torch\n",
    "import torch.nn as nn\n",
    "\n",
    "\n",
    "model = nn.Sequential(\n",
    "    nn.Linear(784, 32),  # input layer (do not change the in_features size of this layer - we need it later)\n",
    "    nn.Linear(32, 32),\n",
    "    nn.Linear(32, 10)  # you can change the in_features of this layer but let the out_features at size 10 here - we need it layer\n",
    ")\n",
    "\n",
    "\n",
    "print(model)"
   ]
  },
  {
   "cell_type": "markdown",
   "metadata": {},
   "source": [
    "### Weight settings"
   ]
  },
  {
   "cell_type": "code",
   "execution_count": 21,
   "metadata": {},
   "outputs": [],
   "source": [
    "# Find out how to change the weights of the layers from your neural network.\n",
    "# ATTTENTION: Write your code inside the \"with torch.no_grad():\" section! This is necessary for changing the weights of the layers"
   ]
  },
  {
   "cell_type": "markdown",
   "metadata": {},
   "source": [
    "#### Zero weights"
   ]
  },
  {
   "cell_type": "code",
   "execution_count": 22,
   "metadata": {},
   "outputs": [],
   "source": [
    "# Set all weights and biases of your network to zero\n",
    "\n",
    "with torch.no_grad():\n",
    "    for m in model.modules():\n",
    "        if isinstance(m, nn.Linear):\n",
    "            m.weight.zero_()\n",
    "            m.bias.zero_()"
   ]
  },
  {
   "cell_type": "code",
   "execution_count": 23,
   "metadata": {},
   "outputs": [
    {
     "name": "stderr",
     "output_type": "stream",
     "text": [
      "Training iteration 1: 100%|██████████| 15000/15000 [00:57<00:00, 259.93it/s]\n"
     ]
    },
    {
     "name": "stdout",
     "output_type": "stream",
     "text": [
      "Epoch 1 finished with loss: 2.302 and accuracy 0.112\n"
     ]
    },
    {
     "name": "stderr",
     "output_type": "stream",
     "text": [
      "Training iteration 2: 100%|██████████| 15000/15000 [00:47<00:00, 314.42it/s]\n"
     ]
    },
    {
     "name": "stdout",
     "output_type": "stream",
     "text": [
      "Epoch 2 finished with loss: 2.301 and accuracy 0.112\n"
     ]
    },
    {
     "name": "stderr",
     "output_type": "stream",
     "text": [
      "Training iteration 3: 100%|██████████| 15000/15000 [00:48<00:00, 306.58it/s]"
     ]
    },
    {
     "name": "stdout",
     "output_type": "stream",
     "text": [
      "Epoch 3 finished with loss: 2.301 and accuracy 0.112\n"
     ]
    },
    {
     "name": "stderr",
     "output_type": "stream",
     "text": [
      "\n"
     ]
    },
    {
     "data": {
      "text/plain": [
       "'it is difficult to provide an accurate observation.\\nHowever, we initialized all weights and biases to zero, \\nprobably the model would not learn effectively or even it did not learn anything at all. \\nEvery epocs our results are same'"
      ]
     },
     "execution_count": 23,
     "metadata": {},
     "output_type": "execute_result"
    }
   ],
   "source": [
    "# Train the network with your new settings and take a look at the results\n",
    "# Run the model training\n",
    "train_model(model=model, batch_size=4, epochs=3)\n",
    "\n",
    "# What can you observe?\n",
    "\n",
    "'''it is difficult to provide an accurate observation.\n",
    "However, we initialized all weights and biases to zero, \n",
    "probably the model would not learn effectively or even it did not learn anything at all. \n",
    "Every epocs our results are same'''"
   ]
  },
  {
   "cell_type": "markdown",
   "metadata": {},
   "source": [
    "#### Constant weights"
   ]
  },
  {
   "cell_type": "code",
   "execution_count": 24,
   "metadata": {},
   "outputs": [],
   "source": [
    "# Set all weights and biases to constant numbers (e.g. 0.5)\n",
    "# How does the training progress?\n",
    "\n",
    "with torch.no_grad():\n",
    "    for m in model.modules():\n",
    "        if isinstance(m, nn.Linear):\n",
    "            m.weight.fill_(0.5)\n",
    "            m.bias.fill_(0.5)\n",
    "\n",
    "    "
   ]
  },
  {
   "cell_type": "code",
   "execution_count": 25,
   "metadata": {},
   "outputs": [
    {
     "name": "stderr",
     "output_type": "stream",
     "text": [
      "Training iteration 1: 100%|██████████| 15000/15000 [01:05<00:00, 229.66it/s]\n"
     ]
    },
    {
     "name": "stdout",
     "output_type": "stream",
     "text": [
      "Epoch 1 finished with loss: 170.640 and accuracy 0.141\n"
     ]
    },
    {
     "name": "stderr",
     "output_type": "stream",
     "text": [
      "Training iteration 2: 100%|██████████| 15000/15000 [01:01<00:00, 244.85it/s]\n"
     ]
    },
    {
     "name": "stdout",
     "output_type": "stream",
     "text": [
      "Epoch 2 finished with loss: 2.258 and accuracy 0.158\n"
     ]
    },
    {
     "name": "stderr",
     "output_type": "stream",
     "text": [
      "Training iteration 3: 100%|██████████| 15000/15000 [01:24<00:00, 178.54it/s]"
     ]
    },
    {
     "name": "stdout",
     "output_type": "stream",
     "text": [
      "Epoch 3 finished with loss: 2.247 and accuracy 0.163\n"
     ]
    },
    {
     "name": "stderr",
     "output_type": "stream",
     "text": [
      "\n"
     ]
    },
    {
     "data": {
      "text/plain": [
       "\"This time backpropagation probably worked and second epoc's result is better than first one,\\n so the model can manage to learn with some weights and biases\""
      ]
     },
     "execution_count": 25,
     "metadata": {},
     "output_type": "execute_result"
    }
   ],
   "source": [
    "# Train the network with your new settings and take a look at the results\n",
    "# Run the model training\n",
    "train_model(model=model, batch_size=4, epochs=3)\n",
    "\n",
    "# What can you observe?\n",
    "'''This time backpropagation probably worked and second epoc's result is better than first one,\n",
    " so the model can manage to learn with some weights and biases'''\n"
   ]
  },
  {
   "cell_type": "code",
   "execution_count": 29,
   "metadata": {},
   "outputs": [
    {
     "name": "stdout",
     "output_type": "stream",
     "text": [
      "tensor([[ 0.5965,  0.5965,  0.5965,  0.5965,  0.5965,  0.5965,  0.5965,  0.5965,\n",
      "          0.5965,  0.5965,  0.5965,  0.5965,  0.5965,  0.5965,  0.5965,  0.5965,\n",
      "          0.5965,  0.5965,  0.5965,  0.5965,  0.5965,  0.5965,  0.5965,  0.5965,\n",
      "          0.5965,  0.5965,  0.5965,  0.5965,  0.5965,  0.5965,  0.5965,  0.5965],\n",
      "        [-2.0380, -2.0380, -2.0380, -2.0380, -2.0380, -2.0380, -2.0380, -2.0380,\n",
      "         -2.0380, -2.0380, -2.0380, -2.0380, -2.0380, -2.0380, -2.0380, -2.0380,\n",
      "         -2.0380, -2.0380, -2.0380, -2.0380, -2.0380, -2.0380, -2.0380, -2.0380,\n",
      "         -2.0380, -2.0380, -2.0380, -2.0380, -2.0380, -2.0380, -2.0380, -2.0380],\n",
      "        [ 0.2267,  0.2267,  0.2267,  0.2267,  0.2267,  0.2267,  0.2267,  0.2267,\n",
      "          0.2267,  0.2267,  0.2267,  0.2267,  0.2267,  0.2267,  0.2267,  0.2267,\n",
      "          0.2267,  0.2267,  0.2267,  0.2267,  0.2267,  0.2267,  0.2267,  0.2267,\n",
      "          0.2267,  0.2267,  0.2267,  0.2267,  0.2267,  0.2267,  0.2267,  0.2267],\n",
      "        [ 0.1081,  0.1081,  0.1081,  0.1081,  0.1081,  0.1081,  0.1081,  0.1081,\n",
      "          0.1081,  0.1081,  0.1081,  0.1081,  0.1081,  0.1081,  0.1081,  0.1081,\n",
      "          0.1081,  0.1081,  0.1081,  0.1081,  0.1081,  0.1081,  0.1081,  0.1081,\n",
      "          0.1081,  0.1081,  0.1081,  0.1081,  0.1081,  0.1081,  0.1081,  0.1081],\n",
      "        [ 0.0133,  0.0133,  0.0133,  0.0133,  0.0133,  0.0133,  0.0133,  0.0133,\n",
      "          0.0133,  0.0133,  0.0133,  0.0133,  0.0133,  0.0133,  0.0133,  0.0133,\n",
      "          0.0133,  0.0133,  0.0133,  0.0133,  0.0133,  0.0133,  0.0133,  0.0133,\n",
      "          0.0133,  0.0133,  0.0133,  0.0133,  0.0133,  0.0133,  0.0133,  0.0133],\n",
      "        [ 0.2386,  0.2386,  0.2386,  0.2386,  0.2386,  0.2386,  0.2386,  0.2386,\n",
      "          0.2386,  0.2386,  0.2386,  0.2386,  0.2386,  0.2386,  0.2386,  0.2386,\n",
      "          0.2386,  0.2386,  0.2386,  0.2386,  0.2386,  0.2386,  0.2386,  0.2386,\n",
      "          0.2386,  0.2386,  0.2386,  0.2386,  0.2386,  0.2386,  0.2386,  0.2386],\n",
      "        [ 0.0878,  0.0878,  0.0878,  0.0878,  0.0878,  0.0878,  0.0878,  0.0878,\n",
      "          0.0878,  0.0878,  0.0878,  0.0878,  0.0878,  0.0878,  0.0878,  0.0878,\n",
      "          0.0878,  0.0878,  0.0878,  0.0878,  0.0878,  0.0878,  0.0878,  0.0878,\n",
      "          0.0878,  0.0878,  0.0878,  0.0878,  0.0878,  0.0878,  0.0878,  0.0878],\n",
      "        [ 0.0132,  0.0132,  0.0132,  0.0132,  0.0132,  0.0132,  0.0132,  0.0132,\n",
      "          0.0132,  0.0132,  0.0132,  0.0132,  0.0132,  0.0132,  0.0132,  0.0132,\n",
      "          0.0132,  0.0132,  0.0132,  0.0132,  0.0132,  0.0132,  0.0132,  0.0132,\n",
      "          0.0132,  0.0132,  0.0132,  0.0132,  0.0132,  0.0132,  0.0132,  0.0132],\n",
      "        [ 0.2532,  0.2532,  0.2532,  0.2532,  0.2532,  0.2532,  0.2532,  0.2532,\n",
      "          0.2532,  0.2532,  0.2532,  0.2532,  0.2532,  0.2532,  0.2532,  0.2532,\n",
      "          0.2532,  0.2532,  0.2532,  0.2532,  0.2532,  0.2532,  0.2532,  0.2532,\n",
      "          0.2532,  0.2532,  0.2532,  0.2532,  0.2532,  0.2532,  0.2532,  0.2532],\n",
      "        [ 0.5007,  0.5007,  0.5007,  0.5007,  0.5007,  0.5007,  0.5007,  0.5007,\n",
      "          0.5007,  0.5007,  0.5007,  0.5007,  0.5007,  0.5007,  0.5007,  0.5007,\n",
      "          0.5007,  0.5007,  0.5007,  0.5007,  0.5007,  0.5007,  0.5007,  0.5007,\n",
      "          0.5007,  0.5007,  0.5007,  0.5007,  0.5007,  0.5007,  0.5007,  0.5007]])\n",
      "tensor([ 0.4989, -2.8585,  0.1722,  0.4792,  0.2768,  0.0587,  0.3761,  0.2627,\n",
      "         0.6458,  0.0882])\n"
     ]
    }
   ],
   "source": [
    "# Let us also take a look at the gradient of the output layer\n",
    "# Access the gradients at the output layer of your model and analyze them\n",
    "\n",
    "# We first input some random values\n",
    "# forward + backward\n",
    "outputs = model(torch.randn(size=(1,784)))\n",
    "loss = nn.CrossEntropyLoss()(outputs, torch.tensor([1]))\n",
    "loss.backward()\n",
    "\n",
    "\n",
    "# Code here\n",
    "#acces the gradients at the output layer of our model:\n",
    "# for name, param in model.named_parameters():\n",
    "#     if 'weight' in name:\n",
    "#         print(f\"Gradient of {name}: {param.grad}\")\n",
    "\n",
    "print(model[-1].weight.grad)  \n",
    "print(model[-1].bias.grad) \n",
    "\n",
    "\n",
    "\n",
    "# What can you observe?\n",
    "# What we can observe is, that the model changes the weight always the same amount making it unable to learn."
   ]
  },
  {
   "cell_type": "markdown",
   "metadata": {},
   "source": [
    "#### Unusual weights"
   ]
  },
  {
   "cell_type": "code",
   "execution_count": 52,
   "metadata": {},
   "outputs": [
    {
     "name": "stdout",
     "output_type": "stream",
     "text": [
      "torch.Size([32, 784])\n",
      "392\n",
      "torch.Size([32, 32])\n",
      "16\n",
      "torch.Size([10, 32])\n",
      "16\n"
     ]
    }
   ],
   "source": [
    "# Set some weights (around 50%) of every model of the model to some weird value, e. g. extremely high (> 10.0) or extremely low (< 1e-7).\n",
    "# How does the training progress? \n",
    "# Can your model also diverge instead of converge because the weights were way to high or low?\n",
    "\n",
    "\n",
    "with torch.no_grad():\n",
    "    for layer in model:\n",
    "        if isinstance(layer, nn.Linear):\n",
    "            size = layer.weight.size()\n",
    "            print(size)\n",
    "            half_size = size[1] // 2\n",
    "            print(half_size)\n",
    "            layer.weight[:, :half_size].fill_(10.0)  # Set half of the weights to 10.0\n",
    "            layer.weight[:, half_size:].fill_(1e-7)   # Set the other half of the weights to 1e-7\n",
    "\n",
    "\n"
   ]
  },
  {
   "cell_type": "code",
   "execution_count": 53,
   "metadata": {},
   "outputs": [
    {
     "name": "stderr",
     "output_type": "stream",
     "text": [
      "Training iteration 1: 100%|██████████| 15000/15000 [00:58<00:00, 256.15it/s]\n"
     ]
    },
    {
     "name": "stdout",
     "output_type": "stream",
     "text": [
      "Epoch 1 finished with loss: nan and accuracy 0.099\n"
     ]
    },
    {
     "name": "stderr",
     "output_type": "stream",
     "text": [
      "Training iteration 2: 100%|██████████| 15000/15000 [01:01<00:00, 244.00it/s]\n"
     ]
    },
    {
     "name": "stdout",
     "output_type": "stream",
     "text": [
      "Epoch 2 finished with loss: nan and accuracy 0.099\n"
     ]
    },
    {
     "name": "stderr",
     "output_type": "stream",
     "text": [
      "Training iteration 3: 100%|██████████| 15000/15000 [00:57<00:00, 262.42it/s]\n"
     ]
    },
    {
     "name": "stdout",
     "output_type": "stream",
     "text": [
      "Epoch 3 finished with loss: nan and accuracy 0.099\n"
     ]
    },
    {
     "name": "stderr",
     "output_type": "stream",
     "text": [
      "Training iteration 4: 100%|██████████| 15000/15000 [01:01<00:00, 245.38it/s]\n"
     ]
    },
    {
     "name": "stdout",
     "output_type": "stream",
     "text": [
      "Epoch 4 finished with loss: nan and accuracy 0.099\n"
     ]
    },
    {
     "name": "stderr",
     "output_type": "stream",
     "text": [
      "Training iteration 5: 100%|██████████| 15000/15000 [00:59<00:00, 251.02it/s]"
     ]
    },
    {
     "name": "stdout",
     "output_type": "stream",
     "text": [
      "Epoch 5 finished with loss: nan and accuracy 0.099\n"
     ]
    },
    {
     "name": "stderr",
     "output_type": "stream",
     "text": [
      "\n"
     ]
    }
   ],
   "source": [
    "# Train the network with your new settings and take a look at the results\n",
    "# Run the model training\n",
    "train_model(model=model, batch_size=4, epochs=5)\n",
    "\n",
    "# What can you observe?\n",
    "\n",
    "'''with this resukt , the model is not learning and the training process is not converging.\n",
    "we couldnt calculate loss function probably because of extremly high weight initialization.\n",
    "the constant accuracy always same so it means our model is not learning. \n",
    "'''"
   ]
  },
  {
   "cell_type": "markdown",
   "metadata": {},
   "source": [
    "## Weight initialization techniques"
   ]
  },
  {
   "cell_type": "code",
   "execution_count": 111,
   "metadata": {},
   "outputs": [
    {
     "data": {
      "image/png": "[encoded data removed]",
      "text/plain": [
       "<Figure size 640x480 with 1 Axes>"
      ]
     },
     "metadata": {},
     "output_type": "display_data"
    },
    {
     "data": {
      "text/plain": [
       "\"\\nThe goal of Xavier Initialization is to initialize the weights such that \\nthe variance of the activations are the same across every layer.\\n This constant variance helps prevent the gradient from exploding or vanishing.\\n\\n Xavier ensures more balanced model every layer. They say it's commenly used with sigmoid function because of \\n vanishing gradient problem.\\n\\n\""
      ]
     },
     "execution_count": 111,
     "metadata": {},
     "output_type": "execute_result"
    }
   ],
   "source": [
    "# We now take a closer look to the sigmoid activation function.\n",
    "# Where does the sigmoid function creates small gradients and where are the biggest gradient?\n",
    "\n",
    "'''\n",
    "\n",
    "for large positive value, leading to a sigmoid output close to 1.\n",
    "for extremly small values (negative values maybe), resulting in a sigmoid output close to 0.\n",
    "\n",
    "\n",
    "'''\n",
    "\n",
    "# Now lets plot some different activation function methods\n",
    "# Use matplotlib and plot the sigmoid activation function into the plot.\n",
    "# Create 1000 sample points from x-values [-5.0, 5.0] and create y = Sigmoid(x) and plot the result. (The result should simply be the sigmoid curve)\n",
    "# You can use the Sigmoid function from PyTorch here!\n",
    "\n",
    "import matplotlib.pyplot as plt\n",
    "\n",
    "# Code here\n",
    "\n",
    "def sigmoid(x):\n",
    "    return 1 / (1+torch.exp(-x))\n",
    "\n",
    "x = torch.linspace(-5.0,5.0,1000)\n",
    "y = sigmoid(x)\n",
    "\n",
    "\n",
    "plt.plot(x,y)\n",
    "plt.grid(True)\n",
    "\n",
    "\n",
    "\n",
    "\n",
    "# Now lets plot the kaiming normal weight initialization into the plot\n",
    "# Create 1000 points (x) sampled from the kaiming_normal_ (pytorch function) and create y = Sigmoid(kaiming_normal(1000)) and plot the result into the same plot as before.\n",
    "# Use a different color for plotting the results\n",
    "\n",
    "\n",
    "# Code here\n",
    "\n",
    "\n",
    "w = torch.empty(1000,1)\n",
    "\n",
    "x_kaiming = torch.nn.init.kaiming_normal_(w)\n",
    "y_kaiming = sigmoid(x_kaiming)\n",
    "\n",
    "plt.plot(x_kaiming,y_kaiming, ':', label ='Kaiming Normal Dist.')\n",
    "plt.grid(True)\n",
    "\n",
    "\n",
    "\n",
    "\n",
    "# Now lets plot a random normal (torch.randn) weight initialization into the plot\n",
    "# Create 1000 points (x) sampled from the randn (pytorch function) and create y = Sigmoid(randn(1000)) and plot the result into the same plot as before.\n",
    "# Use a different color for plotting the results\n",
    "\n",
    "\n",
    "x_randn = torch.randn(1000)\n",
    "\n",
    "y_randn = sigmoid(x_randn)\n",
    "\n",
    "plt.plot(x_randn, y_randn, 'g:', label='Random Normal Dist.')\n",
    "plt.grid(True)\n",
    "\n",
    "\n",
    "\n",
    "\n",
    "# Now lets plot a xavier_normal weight initialization into the plot\n",
    "# Create 1000 points (x) sampled from the xavier_normal_ (pytorch function) and create y = Sigmoid(xavier_normal_(1000)) and plot the result into the same plot as before.\n",
    "# Use a different color for plotting the results\n",
    "\n",
    "\n",
    "x = torch.empty(1000,1)\n",
    "\n",
    "x_xavier = torch.nn.init.xavier_normal_(x)\n",
    "y_xavier = sigmoid(x)\n",
    "\n",
    "plt.plot(x_xavier, y_xavier, 'r', label='Xavier Normal Dist.')\n",
    "\n",
    "\n",
    "plt.grid(True)\n",
    "plt.legend()\n",
    "plt.show()\n",
    "\n",
    "\n",
    "# Which weight initialization technique is best when using sigmoid activation function?\n",
    "\n",
    "'''\n",
    "The goal of Xavier Initialization is to initialize the weights such that \n",
    "the variance of the activations are the same across every layer.\n",
    " This constant variance helps prevent the gradient from exploding or vanishing.\n",
    "\n",
    " Xavier ensures more balanced model every layer. They say it's commenly used with sigmoid function because of \n",
    " vanishing gradient problem.\n",
    "\n",
    "'''\n",
    "\n"
   ]
  },
  {
   "cell_type": "markdown",
   "metadata": {},
   "source": [
    "## Be creative and test some other weight initialization techniques! - There is so much to explore!"
   ]
  }
 ],
 "metadata": {
  "kernelspec": {
   "display_name": "Python 3.9.0 ('aai2')",
   "language": "python",
   "name": "python3"
  },
  "language_info": {
   "codemirror_mode": {
    "name": "ipython",
    "version": 3
   },
   "file_extension": ".py",
   "mimetype": "text/x-python",
   "name": "python",
   "nbconvert_exporter": "python",
   "pygments_lexer": "ipython3",
   "version": "3.9.0"
  },
  "orig_nbformat": 4,
  "vscode": {
   "interpreter": {
    "hash": "c9621b288640ec72265c2f0c931c1129106da1ad09ceb1028ae8cec1cf5ff8f5"
   }
  }
 },
 "nbformat": 4,
 "nbformat_minor": 2
}
