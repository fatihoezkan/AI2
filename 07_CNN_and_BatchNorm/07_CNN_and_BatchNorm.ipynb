{
 "cells": [
  {
   "cell_type": "markdown",
   "metadata": {},
   "source": [
    "# Convolutional Neural Networks"
   ]
  },
  {
   "cell_type": "markdown",
   "metadata": {},
   "source": [
    "Today we focus on basic operations for convolutional layers and on a simple neural network implementation with convolutional layers."
   ]
  },
  {
   "cell_type": "markdown",
   "metadata": {},
   "source": [
    "## Operations"
   ]
  },
  {
   "cell_type": "code",
   "execution_count": 15,
   "metadata": {
    "tags": []
   },
   "outputs": [],
   "source": [
    "import numpy as np\n",
    "#np.random.seed(42)\n",
    "\n",
    "# Consider a 2d - window of size 12x12\n",
    "window = np.random.rand(12, 12)\n",
    "\n",
    "#trying on matix myself\n",
    "# matrix = np.random.randint(0,10,size = (12,12))\n",
    "# print(matrix)\n",
    "# h = 0\n",
    "# w = 0\n",
    "# new_matrix  = matrix[h:h+3,w:w+3]\n",
    "# max_value = new_matrix.max()\n",
    "# new_matrix2 = new_matrix.fill(max_value)\n",
    "# print((new_matrix))\n",
    "# print(new_matrix.max())\n",
    "# matrix[h:h+3,w:w+3].fill(max_value)\n",
    "# print(matrix)\n",
    "\n",
    "\n",
    "        \n",
    "\n"
   ]
  },
  {
   "cell_type": "markdown",
   "metadata": {},
   "source": [
    "### Strides"
   ]
  },
  {
   "cell_type": "code",
   "execution_count": 16,
   "metadata": {
    "tags": []
   },
   "outputs": [
    {
     "name": "stdout",
     "output_type": "stream",
     "text": [
      "[[0.6237702  0.6237702  0.8680434  0.8680434  0.8680434  0.8680434\n",
      "  0.9546699  0.9546699  0.9546699  0.9546699  0.9546699  0.95909079]\n",
      " [0.6237702  0.6237702  0.8680434  0.8680434  0.8680434  0.8680434\n",
      "  0.9546699  0.9546699  0.9546699  0.9546699  0.9546699  0.28291558]\n",
      " [0.97252748 0.97252748 0.97252748 0.97252748 0.97252748 0.97252748\n",
      "  0.97252748 0.97252748 0.97252748 0.97252748 0.97252748 0.50195549]\n",
      " [0.97252748 0.97252748 0.97252748 0.97252748 0.97252748 0.97252748\n",
      "  0.97252748 0.97252748 0.97252748 0.97252748 0.97252748 0.18689123]\n",
      " [0.98066466 0.98066466 0.98066466 0.98066466 0.98066466 0.98066466\n",
      "  0.98066466 0.98066466 0.99400303 0.99400303 0.99400303 0.65714078]\n",
      " [0.98066466 0.98066466 0.98066466 0.98066466 0.98066466 0.98066466\n",
      "  0.98066466 0.98066466 0.99400303 0.99400303 0.99400303 0.42280152]\n",
      " [0.98066466 0.98066466 0.98066466 0.98066466 0.98066466 0.98066466\n",
      "  0.99400303 0.99400303 0.99400303 0.99400303 0.99400303 0.54385735]\n",
      " [0.98066466 0.98066466 0.98066466 0.98066466 0.98066466 0.98066466\n",
      "  0.99400303 0.99400303 0.99400303 0.99400303 0.99400303 0.40046537]\n",
      " [0.98066466 0.98066466 0.98066466 0.98066466 0.99400303 0.99400303\n",
      "  0.99400303 0.99400303 0.99400303 0.99400303 0.99400303 0.63141785]\n",
      " [0.98066466 0.98066466 0.98066466 0.98066466 0.99400303 0.99400303\n",
      "  0.99400303 0.99400303 0.99400303 0.99400303 0.99400303 0.93623448]\n",
      " [0.98066466 0.98066466 0.98066466 0.98066466 0.99400303 0.99400303\n",
      "  0.99400303 0.99400303 0.99400303 0.99400303 0.99400303 0.84913201]\n",
      " [0.40334248 0.75255128 0.26210972 0.41850176 0.34912417 0.99099271\n",
      "  0.11191036 0.34925389 0.23804905 0.8279336  0.40571301 0.38678457]]\n"
     ]
    }
   ],
   "source": [
    "# Implement the sliding window method used in convolutional layers\n",
    "# Dont do the convolution itself, just let the window slide\n",
    "\n",
    "# For that, use a stride of 2\n",
    "# Use a kernel of size 3x3 and slide over the \"window\" variable defined in the previous block\n",
    "# When sliding the kernel over the window with the stride of 2, set always the maximum number of that area to every single entry\n",
    "# E. g. if the window you are currently slicing over looks like this:\n",
    "#  3 4 5\n",
    "#  5 2 6\n",
    "#  1 7 2\n",
    "# then it should be transformed into\n",
    "#  7 7 7\n",
    "#  7 7 7\n",
    "#  7 7 7\n",
    "\n",
    "# Make sure that you update the result always after one complete sliding over the complete window\n",
    "# so that for every calculation you use the original values\n",
    "\n",
    "stride = 2\n",
    "kernel_size = 3\n",
    "# matrix = np.random.randint(0,10,size = (12,12))\n",
    "\n",
    "def sliding_stride_set_max(window, kernel_size, stride=1):\n",
    "    for w in range(0,window.shape[0]-kernel_size +1 ,stride):\n",
    "        for h in range(0,window.shape[1]-kernel_size + 1,stride):\n",
    "            new_matrix = window[w:w+kernel_size,h:h+kernel_size]\n",
    "            max_value = new_matrix.max()\n",
    "            window[w:w+kernel_size,h:h+kernel_size].fill(max_value)\n",
    "  \n",
    "    return window\n",
    "\n",
    "\n",
    "\n",
    "max_slide_window = sliding_stride_set_max(window=window, kernel_size=kernel_size, stride=stride)\n",
    "\n",
    "print(max_slide_window)"
   ]
  },
  {
   "cell_type": "markdown",
   "metadata": {},
   "source": [
    "### Padding"
   ]
  },
  {
   "cell_type": "code",
   "execution_count": 17,
   "metadata": {
    "tags": []
   },
   "outputs": [
    {
     "name": "stdout",
     "output_type": "stream",
     "text": [
      "[[ 0.35049326 -1.57418394  0.93824887  1.40959815  0.00474703  0.63430204]\n",
      " [ 0.81038922  0.53345852  1.92870132  0.55912057  1.44523499  0.45009815]\n",
      " [-1.36493646  0.41665852 -0.50383384  0.58275796 -0.97576646 -0.32214564]\n",
      " [ 1.51208019  0.0482147   1.59081334  1.13612125  0.78284221  0.5123183 ]\n",
      " [ 0.17968104 -0.68080329  0.76400692 -0.47664316  0.85662649 -1.54882565]\n",
      " [-0.45163657 -0.06906478  0.40211904  1.57506781  1.58681776  0.10058813]]\n",
      "(10, 10)\n",
      "[[ 0.          0.          0.          0.          0.          0.\n",
      "   0.          0.          0.          0.        ]\n",
      " [ 0.          0.          0.          0.          0.          0.\n",
      "   0.          0.          0.          0.        ]\n",
      " [ 0.          0.          0.35049326 -1.57418394  0.93824887  1.40959815\n",
      "   0.00474703  0.63430204  0.          0.        ]\n",
      " [ 0.          0.          0.81038922  0.53345852  1.92870132  0.55912057\n",
      "   1.44523499  0.45009815  0.          0.        ]\n",
      " [ 0.          0.         -1.36493646  0.41665852 -0.50383384  0.58275796\n",
      "  -0.97576646 -0.32214564  0.          0.        ]\n",
      " [ 0.          0.          1.51208019  0.0482147   1.59081334  1.13612125\n",
      "   0.78284221  0.5123183   0.          0.        ]\n",
      " [ 0.          0.          0.17968104 -0.68080329  0.76400692 -0.47664316\n",
      "   0.85662649 -1.54882565  0.          0.        ]\n",
      " [ 0.          0.         -0.45163657 -0.06906478  0.40211904  1.57506781\n",
      "   1.58681776  0.10058813  0.          0.        ]\n",
      " [ 0.          0.          0.          0.          0.          0.\n",
      "   0.          0.          0.          0.        ]\n",
      " [ 0.          0.          0.          0.          0.          0.\n",
      "   0.          0.          0.          0.        ]]\n"
     ]
    }
   ],
   "source": [
    "# Implement a padding of zeros to the following numpy array\n",
    "to_pad = np.random.randn(6, 6)\n",
    "matrix_to_pad = np.random.randint(0,10,size = (6,6))\n",
    "print(to_pad)\n",
    "\n",
    "# The zero padding should pad the array on every side with size 2\n",
    "# So that they output array of the 6x6 array is of shape 10x10\n",
    "padding_size = 2\n",
    "\n",
    "# Your code here\n",
    "#padding = np.pad(matrix_to_pad,padding_size,mode= 'constant')\n",
    "padding = np.pad(to_pad,padding_size,mode= 'constant')\n",
    "print(padding.shape)\n",
    "print(padding)\n"
   ]
  },
  {
   "cell_type": "markdown",
   "metadata": {},
   "source": [
    "### Pooling"
   ]
  },
  {
   "cell_type": "code",
   "execution_count": 18,
   "metadata": {
    "tags": []
   },
   "outputs": [
    {
     "name": "stdout",
     "output_type": "stream",
     "text": [
      "[[0.96822093 0.471453   1.00026618]\n",
      " [2.30767958 1.64536608 0.45469676]\n",
      " [0.68758917 0.9463683  0.4192782 ]]\n"
     ]
    }
   ],
   "source": [
    "# Implement max pooling with the following array (window)\n",
    "to_pool = np.random.randn(6, 6)\n",
    "\n",
    "# Implement the max pooling\n",
    "# Use a stride of 2 and kernel size of 2x2\n",
    "\n",
    "stride = 2\n",
    "kernel_size = 2\n",
    "\n",
    "def max_pooling(window, kernel_size, stride=1):\n",
    "    assert kernel_size >= stride\n",
    "    assert len(window.shape) == 2\n",
    "    assert window.shape[0] % kernel_size == 0\n",
    "    assert window.shape[1] % kernel_size == 0\n",
    "\n",
    "    m , n = window.shape\n",
    "\n",
    "    pooling_matrix= np.zeros((m//stride,n//stride))\n",
    "\n",
    "    for i in range(0,m-kernel_size+1,stride):\n",
    "        for j in range(0,n-kernel_size+1,stride):\n",
    "            pooling_matrix[i // stride , j // stride ] = np.max(window[i:i+stride,j:j+stride])\n",
    "\n",
    "\n",
    "    return pooling_matrix\n",
    "\n",
    "pooling = max_pooling(window=to_pool, kernel_size=kernel_size, stride=stride)\n",
    "print(pooling)"
   ]
  },
  {
   "cell_type": "markdown",
   "metadata": {},
   "source": [
    "## First CNN PyTorch implementation"
   ]
  },
  {
   "cell_type": "code",
   "execution_count": 19,
   "metadata": {
    "tags": []
   },
   "outputs": [],
   "source": [
    "# 1) Implement a small neural network with convolutional layers\n",
    "\n",
    "# 2) Implement a small neural network with linear layers (as in previous practicals)\n",
    "    # make sure that the networks from 1) and 2) have around the same amount of parameters, to make them comparable to each other\n",
    "# 3) Compare the accuracy with the networks from previous practicals, can you improve the accuracy with conv layers?\n",
    "\n",
    "\n",
    "\n"
   ]
  },
  {
   "cell_type": "markdown",
   "metadata": {},
   "source": [
    "### MNIST dataset"
   ]
  },
  {
   "cell_type": "code",
   "execution_count": 20,
   "metadata": {
    "tags": []
   },
   "outputs": [
    {
     "name": "stderr",
     "output_type": "stream",
     "text": [
      "/var/folders/w0/ynzbkd_s00db7zl4yrnnry7h0000gn/T/ipykernel_13670/1717886939.py:37: UserWarning: The figure layout has changed to tight\n",
      "  plt.tight_layout()\n"
     ]
    },
    {
     "data": {
      "image/png": "[encoded data removed]",
      "text/plain": [
       "<Figure size 640x480 with 5 Axes>"
      ]
     },
     "metadata": {},
     "output_type": "display_data"
    }
   ],
   "source": [
    "# Use the FashionMNIST dataset as in previous practicals\n",
    "\n",
    "import torch\n",
    "torch.manual_seed(42)\n",
    "torch.cuda.manual_seed(42)\n",
    "import torchvision\n",
    "import torchvision.transforms as transforms\n",
    "import tqdm\n",
    "import matplotlib.pyplot as plt\n",
    "\n",
    "\n",
    "def load_fashion_mnist_data(root_path='./data', batch_size=4):\n",
    "    transform = transforms.Compose(\n",
    "        [transforms.ToTensor(),\n",
    "        transforms.Normalize((0.5), (0.5))]\n",
    "    )\n",
    "\n",
    "    train_dataset = torchvision.datasets.FashionMNIST(root=root_path, train=True, download=True, transform=transform)\n",
    "    train_loader = torch.utils.data.DataLoader(train_dataset, batch_size=batch_size, shuffle=True, num_workers=2)\n",
    "\n",
    "    test_dataset = torchvision.datasets.FashionMNIST(root=root_path, train=False, download=True, transform=transform)\n",
    "    test_loader = torch.utils.data.DataLoader(test_dataset, batch_size=batch_size, shuffle=False, num_workers=2)\n",
    "\n",
    "    return train_loader, test_loader, train_dataset, test_dataset\n",
    "\n",
    "\n",
    "def plot_fashsion_mnist_images():\n",
    "    _, _, train_dataset, _ = load_fashion_mnist_data()\n",
    "\n",
    "    # get first x items\n",
    "    no = 5\n",
    "    images = [train_dataset.__getitem__(i)[0].permute(1,2,0) for i in range(0, no)]\n",
    "\n",
    "    start_pos = 0\n",
    "    for i in range(no):\n",
    "        plt.subplot(1, no, i+1)\n",
    "        plt.tight_layout()\n",
    "        plt.imshow(images[i], cmap='gray', interpolation='none')\n",
    "        plt.xticks([])\n",
    "        plt.yticks([])\n",
    "    plt.show()\n",
    "\n",
    "plot_fashsion_mnist_images()"
   ]
  },
  {
   "cell_type": "markdown",
   "metadata": {},
   "source": [
    "### Training and evaluation methods"
   ]
  },
  {
   "cell_type": "code",
   "execution_count": 21,
   "metadata": {
    "tags": []
   },
   "outputs": [],
   "source": [
    "# the operate method calls the train and eval method\n",
    "# so you only have to call the operate method and pass\n",
    "# the parameters to train and evaluate your model in one line\n",
    "import torch\n",
    "from typing import Callable\n",
    "from torch.optim import Optimizer\n",
    "from torch.utils.data import DataLoader\n",
    "import torch.nn as nn\n",
    "\n",
    "def train_model(\n",
    "    model: nn.Module, loss_fn: Callable, optimizer: Optimizer,\n",
    "    train_data_loader: DataLoader, epoch: int, batch_size: int = 4, epochs: int = 10, device: torch.device = 'cpu'\n",
    "):\n",
    "    # turn training mode on\n",
    "    model.train()\n",
    "\n",
    "    running_loss = []\n",
    "    running_accuracy = []\n",
    "    for imgs, targets in tqdm.tqdm(train_data_loader, desc=f'Training iteration {epoch + 1}'):\n",
    "        imgs, targets = imgs.to(device=device), targets.to(device=device)\n",
    "\n",
    "        # zero the parameter gradients\n",
    "        optimizer.zero_grad()\n",
    "\n",
    "        # forward + backward + optimize\n",
    "        outputs = model(imgs)\n",
    "        loss = loss_fn(outputs, targets)\n",
    "        loss.backward()\n",
    "        optimizer.step()\n",
    "\n",
    "        # print statistics\n",
    "        running_loss.append(loss.item())\n",
    "\n",
    "        # Calculate the Accuracy (how many of all samples are correctly classified?)\n",
    "        max_outputs = torch.max(outputs, dim=1).indices\n",
    "        accuracy = (max_outputs.detach() == targets.detach()).to(dtype=torch.float32).mean()\n",
    "        running_accuracy.append(accuracy)\n",
    "\n",
    "    running_loss_iterations = []\n",
    "    running_accuracy_iterations = []\n",
    "    for i in range(0, len(running_loss), batch_size * 20):\n",
    "        j = i + (batch_size * 20)\n",
    "        running_loss_iterations.append(torch.mean(torch.as_tensor(running_loss[i:j])))\n",
    "        running_accuracy_iterations.append(torch.mean(torch.as_tensor(running_accuracy[i:j])))\n",
    "    \n",
    "    return torch.mean(torch.as_tensor(running_loss)), torch.mean(torch.as_tensor(running_accuracy)) , torch.as_tensor(running_loss_iterations), torch.as_tensor(running_accuracy_iterations)\n",
    "\n",
    "\n",
    "\n",
    "def eval_model(\n",
    "    model: nn.Module, loss_fn: Callable, val_data_loader: DataLoader, epoch: int, batch_size: int = 4, device: torch.device = 'cpu'\n",
    "):\n",
    "    # turn evaluation mode on\n",
    "    model.eval()\n",
    "\n",
    "    with torch.no_grad():\n",
    "        running_loss = []\n",
    "        running_accuracy = []\n",
    "        for imgs, targets in tqdm.tqdm(val_data_loader, desc=f'Evaluation iteration {epoch + 1}'):\n",
    "            imgs, targets = imgs.to(device=device), targets.to(device=device)\n",
    "\n",
    "            # forward + backward + optimize\n",
    "            outputs = model(imgs)\n",
    "            loss = loss_fn(outputs, targets)\n",
    "\n",
    "            # print statistics\n",
    "            running_loss.append(loss.item())\n",
    "\n",
    "            # Calculate the Accuracy (how many of all samples are correctly classified?)\n",
    "            max_outputs = torch.max(outputs, dim=1).indices\n",
    "            accuracy = (max_outputs.detach() == targets.detach()).to(dtype=torch.float32).mean()\n",
    "            running_accuracy.append(accuracy)\n",
    "    \n",
    "\n",
    "\n",
    "    running_loss_iterations = []\n",
    "    running_accuracy_iterations = []\n",
    "    for i in range(0, len(running_loss), batch_size * 20):\n",
    "        j = i + (batch_size * 20)\n",
    "        running_loss_iterations.append(torch.mean(torch.as_tensor(running_loss[i:j])))\n",
    "        running_accuracy_iterations.append(torch.mean(torch.as_tensor(running_accuracy[i:j])))\n",
    "    \n",
    "    return torch.mean(torch.as_tensor(running_loss)), torch.mean(torch.as_tensor(running_accuracy)) , torch.as_tensor(running_loss_iterations), torch.as_tensor(running_accuracy_iterations)\n",
    "\n",
    "\n",
    "def operate(model: nn.Module, loss_fn: Callable, optimizer: Optimizer,\n",
    "    train_data_loader: DataLoader, test_data_loader: DataLoader, batch_size: int = 4, epochs: int = 10\n",
    "):\n",
    "    t_losses, t_accs, t_iter_losses, t_iter_accs, e_losses, e_accs, e_iter_losses, e_iter_accs = [], [], [], [], [], [], [], []\n",
    "    for epoch in range(epochs):\n",
    "        t_loss, t_acc, t_iter_loss, t_iter_acc = train_model(model=model, loss_fn=loss_fn, optimizer=optimizer, train_data_loader=train_data_loader, epoch=epoch, batch_size=batch_size, epochs=epochs)\n",
    "        t_losses.append(t_loss.item())\n",
    "        t_accs.append(t_acc.item())\n",
    "        for i in t_iter_loss:\n",
    "            t_iter_losses.append(i.item())\n",
    "        for i in t_iter_acc:\n",
    "            t_iter_accs.append(i.item())    \n",
    "\n",
    "        e_loss, e_acc, e_iter_loss, e_iter_acc = eval_model(model=model, loss_fn=loss_fn, val_data_loader=test_data_loader, epoch=epoch, batch_size=batch_size)\n",
    "        e_losses.append(e_loss.item())\n",
    "        e_accs.append(e_acc.item())\n",
    "        for i in e_iter_loss:\n",
    "            e_iter_losses.append(i.item())\n",
    "        for i in e_iter_acc:\n",
    "            e_iter_accs.append(i.item())\n",
    "\n",
    "        print(f'Training epoch {epoch + 1} finished with loss: {t_loss} and accuracy {t_acc}')\n",
    "        print(f'Eval epoch {epoch + 1} finished with loss: {e_loss} and accuracy {e_acc}')\n",
    "    \n",
    "    return t_losses, t_accs, t_iter_losses, t_iter_accs, e_losses, e_accs, e_iter_losses, e_iter_accs"
   ]
  },
  {
   "cell_type": "markdown",
   "metadata": {},
   "source": [
    "### Method to count the parameters of a model"
   ]
  },
  {
   "cell_type": "code",
   "execution_count": 22,
   "metadata": {
    "tags": []
   },
   "outputs": [],
   "source": [
    "# pass your model to this function to get the trainable parameters (weights) of your model\n",
    "def count_parameters(model):\n",
    "    return sum(p.numel() for p in model.parameters() if p.requires_grad)"
   ]
  },
  {
   "cell_type": "markdown",
   "metadata": {},
   "source": [
    "### Some hyperparameters"
   ]
  },
  {
   "cell_type": "code",
   "execution_count": 23,
   "metadata": {
    "tags": []
   },
   "outputs": [],
   "source": [
    "# Init the datasets\n",
    "batch_size = 4\n",
    "train_data_loader, test_data_loader, _, _ = load_fashion_mnist_data(batch_size=batch_size)\n",
    "\n",
    "# set epochs\n",
    "epochs = 5\n"
   ]
  },
  {
   "cell_type": "markdown",
   "metadata": {},
   "source": [
    "## Linear and Conv model"
   ]
  },
  {
   "cell_type": "code",
   "execution_count": 24,
   "metadata": {
    "tags": []
   },
   "outputs": [],
   "source": [
    "import torch.nn as nn\n",
    "\n",
    "### Use the implementation of the linear layer model\n",
    "### and update the layers or extend the layers\n",
    "### to learn the mnist data\n",
    "class LinearLayerModel(nn.Module):\n",
    "    def __init__(self) -> None:\n",
    "        super().__init__()\n",
    "\n",
    "        self.model = nn.Sequential(\n",
    "            nn.Linear(784, 128),\n",
    "            nn.ReLU(),\n",
    "            nn.Linear(128, 64),\n",
    "            nn.ReLU(),\n",
    "            nn.Linear(64, 10)\n",
    "        )\n",
    "    \n",
    "    def forward(self, imgs):\n",
    "        imgs = imgs.reshape(imgs.shape[0], -1)\n",
    "\n",
    "        return self.model(imgs)\n",
    "    \n",
    "class LinearLayerModel_bn(nn.Module):\n",
    "    def __init__(self) -> None:\n",
    "        super().__init__()\n",
    "\n",
    "        self.model = nn.Sequential(\n",
    "            nn.Linear(784, 128),\n",
    "            nn.BatchNorm1d(128),\n",
    "            nn.ReLU(),\n",
    "            nn.Linear(128, 64),\n",
    "            nn.BatchNorm1d(64),\n",
    "            nn.ReLU(),\n",
    "            nn.Linear(64, 10)\n",
    "        )\n",
    "    \n",
    "    def forward(self, imgs):\n",
    "        imgs = imgs.reshape(imgs.shape[0], -1)\n",
    "\n",
    "        return self.model(imgs)\n",
    "\n",
    "\n",
    "# Implement your convolutional layer model\n",
    "class ConvLayerModel(nn.Module):\n",
    "    def __init__(self) -> None:\n",
    "        super().__init__()\n",
    "\n",
    "        self.model = nn.Sequential(\n",
    "            nn.Conv2d(1, 6, kernel_size=3, stride=1),\n",
    "            # pixels 28 * 28 (input)\n",
    "            # ((28 - 3)/1) + 1 = 26\n",
    "            # 26 * 26 = 676 (output)\n",
    "            nn.ReLU(),\n",
    "            nn.Conv2d(6, 1, kernel_size=3, stride=1),\n",
    "            # pixels 26 * 26 (input) \n",
    "            # ((26 - 3)/1) + 1 = 24\n",
    "            # 24 * 24 = 576 (output)\n",
    "            nn.ReLU(),\n",
    "            nn.Flatten(),\n",
    "            nn.Linear(576, 10)\n",
    "        )\n",
    "    \n",
    "    def forward(self, imgs):\n",
    "        return self.model(imgs)\n",
    "    \n",
    "\n",
    "# Implement your convolutional layer model\n",
    "class ConvLayerModel_bn(nn.Module):\n",
    "    def __init__(self) -> None:\n",
    "        super().__init__()\n",
    "\n",
    "        self.model = nn.Sequential(\n",
    "            nn.Conv2d(1, 6, kernel_size=3, stride=1),\n",
    "            nn.BatchNorm2d(6),\n",
    "            # pixels 28 * 28 (input)\n",
    "            # ((28 - 3)/1) + 1 = 26\n",
    "            # 26 * 26 = 676 (output)\n",
    "            nn.ReLU(),\n",
    "            nn.Conv2d(6, 1, kernel_size=3, stride=1),\n",
    "            nn.BatchNorm2d(1),\n",
    "            # pixels 26 * 26 (input) \n",
    "            # ((26 - 3)/1) + 1 = 24\n",
    "            # 24 * 24 = 576 (output)\n",
    "            nn.ReLU(),\n",
    "            nn.Flatten(),\n",
    "            nn.Linear(576, 10)\n",
    "        )\n",
    "    \n",
    "    def forward(self, imgs):\n",
    "        return self.model(imgs)"
   ]
  },
  {
   "cell_type": "markdown",
   "metadata": {},
   "source": [
    "## Train the convolutional model"
   ]
  },
  {
   "cell_type": "code",
   "execution_count": 25,
   "metadata": {
    "tags": []
   },
   "outputs": [],
   "source": [
    "device = torch.device('cuda') if torch.cuda.is_available() else torch.device('cpu')"
   ]
  },
  {
   "cell_type": "code",
   "execution_count": 26,
   "metadata": {
    "tags": []
   },
   "outputs": [
    {
     "name": "stdout",
     "output_type": "stream",
     "text": [
      "Convolutional model has: 5885 parameters to optimize.\n"
     ]
    },
    {
     "name": "stderr",
     "output_type": "stream",
     "text": [
      "Training iteration 1:   0%|          | 0/15000 [00:00<?, ?it/s]"
     ]
    },
    {
     "name": "stderr",
     "output_type": "stream",
     "text": [
      "Training iteration 1: 100%|██████████| 15000/15000 [02:20<00:00, 106.99it/s]\n",
      "Evaluation iteration 1: 100%|██████████| 2500/2500 [00:17<00:00, 144.03it/s]\n"
     ]
    },
    {
     "name": "stdout",
     "output_type": "stream",
     "text": [
      "Training epoch 1 finished with loss: 0.5204224586486816 and accuracy 0.8141499757766724\n",
      "Eval epoch 1 finished with loss: 0.4623588025569916 and accuracy 0.8313999772071838\n"
     ]
    },
    {
     "name": "stderr",
     "output_type": "stream",
     "text": [
      "Training iteration 2: 100%|██████████| 15000/15000 [01:40<00:00, 149.54it/s]\n",
      "Evaluation iteration 2: 100%|██████████| 2500/2500 [00:14<00:00, 167.44it/s]\n"
     ]
    },
    {
     "name": "stdout",
     "output_type": "stream",
     "text": [
      "Training epoch 2 finished with loss: 0.43874090909957886 and accuracy 0.8432666659355164\n",
      "Eval epoch 2 finished with loss: 0.44571322202682495 and accuracy 0.8370000123977661\n"
     ]
    },
    {
     "name": "stderr",
     "output_type": "stream",
     "text": [
      "Training iteration 3: 100%|██████████| 15000/15000 [01:16<00:00, 195.21it/s]\n",
      "Evaluation iteration 3: 100%|██████████| 2500/2500 [00:11<00:00, 226.48it/s]\n"
     ]
    },
    {
     "name": "stdout",
     "output_type": "stream",
     "text": [
      "Training epoch 3 finished with loss: 0.41429078578948975 and accuracy 0.8511499762535095\n",
      "Eval epoch 3 finished with loss: 0.44444966316223145 and accuracy 0.8464999794960022\n"
     ]
    },
    {
     "name": "stderr",
     "output_type": "stream",
     "text": [
      "Training iteration 4: 100%|██████████| 15000/15000 [01:15<00:00, 197.78it/s]\n",
      "Evaluation iteration 4: 100%|██████████| 2500/2500 [00:13<00:00, 189.91it/s]\n"
     ]
    },
    {
     "name": "stdout",
     "output_type": "stream",
     "text": [
      "Training epoch 4 finished with loss: 0.3968466818332672 and accuracy 0.8577166795730591\n",
      "Eval epoch 4 finished with loss: 0.4279150366783142 and accuracy 0.845300018787384\n"
     ]
    },
    {
     "name": "stderr",
     "output_type": "stream",
     "text": [
      "Training iteration 5: 100%|██████████| 15000/15000 [01:39<00:00, 150.28it/s]\n",
      "Evaluation iteration 5: 100%|██████████| 2500/2500 [00:13<00:00, 187.98it/s]"
     ]
    },
    {
     "name": "stdout",
     "output_type": "stream",
     "text": [
      "Training epoch 5 finished with loss: 0.3855203688144684 and accuracy 0.8622999787330627\n",
      "Eval epoch 5 finished with loss: 0.4484669864177704 and accuracy 0.8442000150680542\n"
     ]
    },
    {
     "name": "stderr",
     "output_type": "stream",
     "text": [
      "\n"
     ]
    }
   ],
   "source": [
    "from torch.optim import Adam\n",
    "import torch.nn.functional as F\n",
    "\n",
    "conv_model = ConvLayerModel()\n",
    "print(f'Convolutional model has: {count_parameters(conv_model)} parameters to optimize.')\n",
    "optimizer = Adam(conv_model.parameters(), lr=0.001)\n",
    "\n",
    "loss_fn = F.cross_entropy\n",
    "\n",
    "conv_t_losses, conv_t_accs, conv_t_iter_losses, conv_t_iter_accs, conv_e_losses, conv_e_accs, conv_e_iter_losses, conv_e_iter_accs = operate(\n",
    "#conv_t_losses, conv_t_accs, conv_e_losses, conv_e_accs, = operate(\n",
    "    model=conv_model, loss_fn=loss_fn, optimizer=optimizer,\n",
    "    train_data_loader=train_data_loader, test_data_loader=test_data_loader,\n",
    "    batch_size=batch_size, epochs=epochs\n",
    ")\n"
   ]
  },
  {
   "cell_type": "markdown",
   "metadata": {},
   "source": [
    "## Train the linear layer model"
   ]
  },
  {
   "cell_type": "code",
   "execution_count": 27,
   "metadata": {
    "tags": []
   },
   "outputs": [
    {
     "name": "stdout",
     "output_type": "stream",
     "text": [
      "Linear layer model has: 109386 parameters to optimize.\n"
     ]
    },
    {
     "name": "stderr",
     "output_type": "stream",
     "text": [
      "Training iteration 1:   0%|          | 0/15000 [00:00<?, ?it/s]"
     ]
    },
    {
     "name": "stderr",
     "output_type": "stream",
     "text": [
      "Training iteration 1: 100%|██████████| 15000/15000 [01:15<00:00, 199.30it/s]\n",
      "Evaluation iteration 1: 100%|██████████| 2500/2500 [00:12<00:00, 205.45it/s]\n"
     ]
    },
    {
     "name": "stdout",
     "output_type": "stream",
     "text": [
      "Training epoch 1 finished with loss: 0.41036441922187805 and accuracy 0.8611000180244446\n",
      "Eval epoch 1 finished with loss: 0.4484669864177704 and accuracy 0.8442000150680542\n"
     ]
    },
    {
     "name": "stderr",
     "output_type": "stream",
     "text": [
      "Training iteration 2: 100%|██████████| 15000/15000 [01:14<00:00, 201.33it/s]\n",
      "Evaluation iteration 2: 100%|██████████| 2500/2500 [00:11<00:00, 214.63it/s]\n"
     ]
    },
    {
     "name": "stdout",
     "output_type": "stream",
     "text": [
      "Training epoch 2 finished with loss: 0.41036441922187805 and accuracy 0.8611000180244446\n",
      "Eval epoch 2 finished with loss: 0.4484669864177704 and accuracy 0.8442000150680542\n"
     ]
    },
    {
     "name": "stderr",
     "output_type": "stream",
     "text": [
      "Training iteration 3: 100%|██████████| 15000/15000 [01:16<00:00, 196.90it/s]\n",
      "Evaluation iteration 3: 100%|██████████| 2500/2500 [00:22<00:00, 111.39it/s]\n"
     ]
    },
    {
     "name": "stdout",
     "output_type": "stream",
     "text": [
      "Training epoch 3 finished with loss: 0.41036441922187805 and accuracy 0.8611000180244446\n",
      "Eval epoch 3 finished with loss: 0.4484669864177704 and accuracy 0.8442000150680542\n"
     ]
    },
    {
     "name": "stderr",
     "output_type": "stream",
     "text": [
      "Training iteration 4: 100%|██████████| 15000/15000 [01:30<00:00, 166.07it/s]\n",
      "Evaluation iteration 4: 100%|██████████| 2500/2500 [00:12<00:00, 194.38it/s]\n"
     ]
    },
    {
     "name": "stdout",
     "output_type": "stream",
     "text": [
      "Training epoch 4 finished with loss: 0.41036441922187805 and accuracy 0.8611000180244446\n",
      "Eval epoch 4 finished with loss: 0.4484669864177704 and accuracy 0.8442000150680542\n"
     ]
    },
    {
     "name": "stderr",
     "output_type": "stream",
     "text": [
      "Training iteration 5: 100%|██████████| 15000/15000 [01:23<00:00, 178.92it/s]\n",
      "Evaluation iteration 5: 100%|██████████| 2500/2500 [00:11<00:00, 211.22it/s]"
     ]
    },
    {
     "name": "stdout",
     "output_type": "stream",
     "text": [
      "Training epoch 5 finished with loss: 0.41036441922187805 and accuracy 0.8611000180244446\n",
      "Eval epoch 5 finished with loss: 0.4484669864177704 and accuracy 0.8442000150680542\n"
     ]
    },
    {
     "name": "stderr",
     "output_type": "stream",
     "text": [
      "\n"
     ]
    }
   ],
   "source": [
    "linear_layer_model = LinearLayerModel()\n",
    "print(f'Linear layer model has: {count_parameters(linear_layer_model)} parameters to optimize.')\n",
    "optimizer = Adam(linear_layer_model.parameters(), lr=0.001)\n",
    "\n",
    "loss_fn = F.cross_entropy\n",
    "\n",
    "ll_t_losses, ll_t_accs, ll_t_iter_losses, ll_t_iter_accs, ll_e_losses, ll_e_accs, ll_e_iter_losses, ll_e_iter_accs = operate(\n",
    "#conv_t_losses, conv_t_accs, conv_e_losses, conv_e_accs, = operate(\n",
    "    model=conv_model, loss_fn=loss_fn, optimizer=optimizer,\n",
    "    train_data_loader=train_data_loader, test_data_loader=test_data_loader,\n",
    "    batch_size=batch_size, epochs=epochs\n",
    ")"
   ]
  },
  {
   "cell_type": "markdown",
   "metadata": {},
   "source": [
    "## Train the convolutional network with batch normalization"
   ]
  },
  {
   "cell_type": "code",
   "execution_count": 28,
   "metadata": {
    "tags": []
   },
   "outputs": [
    {
     "name": "stdout",
     "output_type": "stream",
     "text": [
      "Convolutional model with batch normalization has: 5899 parameters to optimize.\n"
     ]
    },
    {
     "name": "stderr",
     "output_type": "stream",
     "text": [
      "Training iteration 1:   0%|          | 0/15000 [00:00<?, ?it/s]"
     ]
    },
    {
     "name": "stderr",
     "output_type": "stream",
     "text": [
      "Training iteration 1: 100%|██████████| 15000/15000 [01:12<00:00, 207.34it/s]\n",
      "Evaluation iteration 1: 100%|██████████| 2500/2500 [00:30<00:00, 81.18it/s] \n"
     ]
    },
    {
     "name": "stdout",
     "output_type": "stream",
     "text": [
      "Training epoch 1 finished with loss: 0.41036438941955566 and accuracy 0.8611000180244446\n",
      "Eval epoch 1 finished with loss: 0.4484669864177704 and accuracy 0.8442000150680542\n"
     ]
    },
    {
     "name": "stderr",
     "output_type": "stream",
     "text": [
      "Training iteration 2: 100%|██████████| 15000/15000 [01:52<00:00, 132.82it/s]\n",
      "Evaluation iteration 2: 100%|██████████| 2500/2500 [00:26<00:00, 93.33it/s] \n"
     ]
    },
    {
     "name": "stdout",
     "output_type": "stream",
     "text": [
      "Training epoch 2 finished with loss: 0.41036438941955566 and accuracy 0.8611000180244446\n",
      "Eval epoch 2 finished with loss: 0.4484669864177704 and accuracy 0.8442000150680542\n"
     ]
    },
    {
     "name": "stderr",
     "output_type": "stream",
     "text": [
      "Training iteration 3: 100%|██████████| 15000/15000 [01:14<00:00, 201.37it/s]\n",
      "Evaluation iteration 3: 100%|██████████| 2500/2500 [00:12<00:00, 205.90it/s]\n"
     ]
    },
    {
     "name": "stdout",
     "output_type": "stream",
     "text": [
      "Training epoch 3 finished with loss: 0.41036444902420044 and accuracy 0.8611000180244446\n",
      "Eval epoch 3 finished with loss: 0.4484669864177704 and accuracy 0.8442000150680542\n"
     ]
    },
    {
     "name": "stderr",
     "output_type": "stream",
     "text": [
      "Training iteration 4: 100%|██████████| 15000/15000 [01:07<00:00, 223.68it/s]\n",
      "Evaluation iteration 4: 100%|██████████| 2500/2500 [00:09<00:00, 251.67it/s]\n"
     ]
    },
    {
     "name": "stdout",
     "output_type": "stream",
     "text": [
      "Training epoch 4 finished with loss: 0.41036444902420044 and accuracy 0.8611000180244446\n",
      "Eval epoch 4 finished with loss: 0.4484669864177704 and accuracy 0.8442000150680542\n"
     ]
    },
    {
     "name": "stderr",
     "output_type": "stream",
     "text": [
      "Training iteration 5: 100%|██████████| 15000/15000 [01:20<00:00, 187.03it/s]\n",
      "Evaluation iteration 5: 100%|██████████| 2500/2500 [00:13<00:00, 180.47it/s]"
     ]
    },
    {
     "name": "stdout",
     "output_type": "stream",
     "text": [
      "Training epoch 5 finished with loss: 0.41036444902420044 and accuracy 0.8611000180244446\n",
      "Eval epoch 5 finished with loss: 0.4484669864177704 and accuracy 0.8442000150680542\n"
     ]
    },
    {
     "name": "stderr",
     "output_type": "stream",
     "text": [
      "\n"
     ]
    }
   ],
   "source": [
    "\n",
    "\n",
    "\n",
    "bn_conv_model = ConvLayerModel_bn()\n",
    "print(f'Convolutional model with batch normalization has: {count_parameters(bn_conv_model)} parameters to optimize.')\n",
    "optimizer = Adam(bn_conv_model.parameters(), lr=0.001)\n",
    "\n",
    "loss_fn = F.cross_entropy\n",
    "\n",
    "bn_conv_t_losses, bn_conv_t_accs, bn_conv_t_iter_losses, bn_conv_t_iter_accs, bn_conv_e_losses, bn_conv_e_accs, bn_conv_e_iter_losses, bn_conv_e_iter_accs = operate(\n",
    "#conv_t_losses, conv_t_accs, conv_e_losses, conv_e_accs, = operate(\n",
    "    model=conv_model, loss_fn=loss_fn, optimizer=optimizer,\n",
    "    train_data_loader=train_data_loader, test_data_loader=test_data_loader,\n",
    "    batch_size=batch_size, epochs=epochs\n",
    ")"
   ]
  },
  {
   "cell_type": "markdown",
   "metadata": {},
   "source": [
    "## Train the linear layer network with batch normalization"
   ]
  },
  {
   "cell_type": "code",
   "execution_count": 29,
   "metadata": {
    "tags": []
   },
   "outputs": [
    {
     "name": "stdout",
     "output_type": "stream",
     "text": [
      "Linear layer model with batch normalization has: 109770 parameters to optimize.\n"
     ]
    },
    {
     "name": "stderr",
     "output_type": "stream",
     "text": [
      "Training iteration 1:   0%|          | 0/15000 [00:00<?, ?it/s]"
     ]
    },
    {
     "name": "stderr",
     "output_type": "stream",
     "text": [
      "Training iteration 1: 100%|██████████| 15000/15000 [01:26<00:00, 174.08it/s]\n",
      "Evaluation iteration 1: 100%|██████████| 2500/2500 [00:13<00:00, 184.80it/s]\n"
     ]
    },
    {
     "name": "stdout",
     "output_type": "stream",
     "text": [
      "Training epoch 1 finished with loss: 0.41036444902420044 and accuracy 0.8611000180244446\n",
      "Eval epoch 1 finished with loss: 0.4484669864177704 and accuracy 0.8442000150680542\n"
     ]
    },
    {
     "name": "stderr",
     "output_type": "stream",
     "text": [
      "Training iteration 2: 100%|██████████| 15000/15000 [01:24<00:00, 177.27it/s]\n",
      "Evaluation iteration 2: 100%|██████████| 2500/2500 [00:12<00:00, 202.32it/s]\n"
     ]
    },
    {
     "name": "stdout",
     "output_type": "stream",
     "text": [
      "Training epoch 2 finished with loss: 0.41036444902420044 and accuracy 0.8611000180244446\n",
      "Eval epoch 2 finished with loss: 0.4484669864177704 and accuracy 0.8442000150680542\n"
     ]
    },
    {
     "name": "stderr",
     "output_type": "stream",
     "text": [
      "Training iteration 3: 100%|██████████| 15000/15000 [01:29<00:00, 168.27it/s]\n",
      "Evaluation iteration 3: 100%|██████████| 2500/2500 [00:14<00:00, 170.22it/s]\n"
     ]
    },
    {
     "name": "stdout",
     "output_type": "stream",
     "text": [
      "Training epoch 3 finished with loss: 0.41036438941955566 and accuracy 0.8611000180244446\n",
      "Eval epoch 3 finished with loss: 0.4484669864177704 and accuracy 0.8442000150680542\n"
     ]
    },
    {
     "name": "stderr",
     "output_type": "stream",
     "text": [
      "Training iteration 4: 100%|██████████| 15000/15000 [01:18<00:00, 191.29it/s]\n",
      "Evaluation iteration 4: 100%|██████████| 2500/2500 [00:12<00:00, 197.84it/s]\n"
     ]
    },
    {
     "name": "stdout",
     "output_type": "stream",
     "text": [
      "Training epoch 4 finished with loss: 0.41036444902420044 and accuracy 0.8611000180244446\n",
      "Eval epoch 4 finished with loss: 0.4484669864177704 and accuracy 0.8442000150680542\n"
     ]
    },
    {
     "name": "stderr",
     "output_type": "stream",
     "text": [
      "Training iteration 5: 100%|██████████| 15000/15000 [01:09<00:00, 214.76it/s]\n",
      "Evaluation iteration 5: 100%|██████████| 2500/2500 [00:11<00:00, 214.48it/s]"
     ]
    },
    {
     "name": "stdout",
     "output_type": "stream",
     "text": [
      "Training epoch 5 finished with loss: 0.41036441922187805 and accuracy 0.8611000180244446\n",
      "Eval epoch 5 finished with loss: 0.4484669864177704 and accuracy 0.8442000150680542\n"
     ]
    },
    {
     "name": "stderr",
     "output_type": "stream",
     "text": [
      "\n"
     ]
    }
   ],
   "source": [
    "bn_linear_layer_model = LinearLayerModel_bn()\n",
    "print(f'Linear layer model with batch normalization has: {count_parameters(bn_linear_layer_model)} parameters to optimize.')\n",
    "optimizer = Adam(bn_linear_layer_model.parameters(), lr=0.001)\n",
    "\n",
    "loss_fn = F.cross_entropy\n",
    "\n",
    "bn_ll_t_losses, bn_ll_t_accs, bn_ll_t_iter_losses, bn_ll_t_iter_accs, bn_ll_e_losses, bn_ll_e_accs, bn_ll_e_iter_losses, bn_ll_e_iter_accs = operate(\n",
    "#conv_t_losses, conv_t_accs, conv_e_losses, conv_e_accs, = operate(\n",
    "    model=conv_model, loss_fn=loss_fn, optimizer=optimizer,\n",
    "    train_data_loader=train_data_loader, test_data_loader=test_data_loader,\n",
    "    batch_size=batch_size, epochs=epochs\n",
    ")"
   ]
  },
  {
   "cell_type": "markdown",
   "metadata": {},
   "source": [
    "## Plot the results"
   ]
  },
  {
   "cell_type": "code",
   "execution_count": 30,
   "metadata": {
    "tags": []
   },
   "outputs": [],
   "source": [
    "# If you did not change the name of return values\n",
    "# from the operate methods of the different models\n",
    "# then you only have to execute the following\n",
    "# cells to visualize the results"
   ]
  },
  {
   "cell_type": "code",
   "execution_count": 31,
   "metadata": {
    "tags": []
   },
   "outputs": [],
   "source": [
    "# number of elements\n",
    "import numpy as np\n",
    "x_vals = np.arange(0, len(conv_t_iter_losses))\n",
    "x_vals_test_data = [i for i in range(0, len(conv_t_iter_losses), len(x_vals) // len(ll_e_iter_losses))]"
   ]
  },
  {
   "cell_type": "code",
   "execution_count": 32,
   "metadata": {
    "tags": []
   },
   "outputs": [
    {
     "ename": "ValueError",
     "evalue": "x and y must have same first dimension, but have shapes (188,) and (160,)",
     "output_type": "error",
     "traceback": [
      "\u001b[0;31m---------------------------------------------------------------------------\u001b[0m",
      "\u001b[0;31mValueError\u001b[0m                                Traceback (most recent call last)",
      "Cell \u001b[0;32mIn[32], line 7\u001b[0m\n\u001b[1;32m      4\u001b[0m plt\u001b[38;5;241m.\u001b[39mplot(x_vals, conv_t_iter_losses, label\u001b[38;5;241m=\u001b[39m\u001b[38;5;124m\"\u001b[39m\u001b[38;5;124mConv model (Train)\u001b[39m\u001b[38;5;124m\"\u001b[39m, c\u001b[38;5;241m=\u001b[39m\u001b[38;5;124m\"\u001b[39m\u001b[38;5;124myellow\u001b[39m\u001b[38;5;124m\"\u001b[39m)\n\u001b[1;32m      5\u001b[0m plt\u001b[38;5;241m.\u001b[39mplot(x_vals, bn_conv_t_iter_losses, label\u001b[38;5;241m=\u001b[39m\u001b[38;5;124m\"\u001b[39m\u001b[38;5;124mConv model with batch norm (Train)\u001b[39m\u001b[38;5;124m\"\u001b[39m, c\u001b[38;5;241m=\u001b[39m\u001b[38;5;124m\"\u001b[39m\u001b[38;5;124mgreen\u001b[39m\u001b[38;5;124m\"\u001b[39m)\n\u001b[0;32m----> 7\u001b[0m \u001b[43mplt\u001b[49m\u001b[38;5;241;43m.\u001b[39;49m\u001b[43mplot\u001b[49m\u001b[43m(\u001b[49m\u001b[43mx_vals_test_data\u001b[49m\u001b[43m,\u001b[49m\u001b[43m \u001b[49m\u001b[43mll_e_iter_losses\u001b[49m\u001b[43m,\u001b[49m\u001b[43m \u001b[49m\u001b[43mlabel\u001b[49m\u001b[38;5;241;43m=\u001b[39;49m\u001b[38;5;124;43m\"\u001b[39;49m\u001b[38;5;124;43mLinear model (Test)\u001b[39;49m\u001b[38;5;124;43m\"\u001b[39;49m\u001b[43m,\u001b[49m\u001b[43m \u001b[49m\u001b[43mlinestyle\u001b[49m\u001b[43m \u001b[49m\u001b[38;5;241;43m=\u001b[39;49m\u001b[43m \u001b[49m\u001b[38;5;124;43m\"\u001b[39;49m\u001b[38;5;124;43mdashed\u001b[39;49m\u001b[38;5;124;43m\"\u001b[39;49m\u001b[43m,\u001b[49m\u001b[43m \u001b[49m\u001b[43mc\u001b[49m\u001b[38;5;241;43m=\u001b[39;49m\u001b[43m \u001b[49m\u001b[38;5;124;43m\"\u001b[39;49m\u001b[38;5;124;43mred\u001b[39;49m\u001b[38;5;124;43m\"\u001b[39;49m\u001b[43m)\u001b[49m\n\u001b[1;32m      8\u001b[0m plt\u001b[38;5;241m.\u001b[39mplot(x_vals_test_data, bn_ll_e_iter_losses, label\u001b[38;5;241m=\u001b[39m\u001b[38;5;124m\"\u001b[39m\u001b[38;5;124mLinear model with batch norm (Test)\u001b[39m\u001b[38;5;124m\"\u001b[39m, linestyle \u001b[38;5;241m=\u001b[39m \u001b[38;5;124m\"\u001b[39m\u001b[38;5;124mdashed\u001b[39m\u001b[38;5;124m\"\u001b[39m, c\u001b[38;5;241m=\u001b[39m\u001b[38;5;124m\"\u001b[39m\u001b[38;5;124mblue\u001b[39m\u001b[38;5;124m\"\u001b[39m)\n\u001b[1;32m      9\u001b[0m plt\u001b[38;5;241m.\u001b[39mplot(x_vals_test_data, conv_e_iter_losses, label\u001b[38;5;241m=\u001b[39m\u001b[38;5;124m\"\u001b[39m\u001b[38;5;124mConv model (Test)\u001b[39m\u001b[38;5;124m\"\u001b[39m, linestyle \u001b[38;5;241m=\u001b[39m \u001b[38;5;124m\"\u001b[39m\u001b[38;5;124mdashed\u001b[39m\u001b[38;5;124m\"\u001b[39m, c\u001b[38;5;241m=\u001b[39m\u001b[38;5;124m\"\u001b[39m\u001b[38;5;124myellow\u001b[39m\u001b[38;5;124m\"\u001b[39m)\n",
      "File \u001b[0;32m/Library/Frameworks/Python.framework/Versions/3.11/lib/python3.11/site-packages/matplotlib/pyplot.py:2812\u001b[0m, in \u001b[0;36mplot\u001b[0;34m(scalex, scaley, data, *args, **kwargs)\u001b[0m\n\u001b[1;32m   2810\u001b[0m \u001b[38;5;129m@_copy_docstring_and_deprecators\u001b[39m(Axes\u001b[38;5;241m.\u001b[39mplot)\n\u001b[1;32m   2811\u001b[0m \u001b[38;5;28;01mdef\u001b[39;00m \u001b[38;5;21mplot\u001b[39m(\u001b[38;5;241m*\u001b[39margs, scalex\u001b[38;5;241m=\u001b[39m\u001b[38;5;28;01mTrue\u001b[39;00m, scaley\u001b[38;5;241m=\u001b[39m\u001b[38;5;28;01mTrue\u001b[39;00m, data\u001b[38;5;241m=\u001b[39m\u001b[38;5;28;01mNone\u001b[39;00m, \u001b[38;5;241m*\u001b[39m\u001b[38;5;241m*\u001b[39mkwargs):\n\u001b[0;32m-> 2812\u001b[0m     \u001b[38;5;28;01mreturn\u001b[39;00m \u001b[43mgca\u001b[49m\u001b[43m(\u001b[49m\u001b[43m)\u001b[49m\u001b[38;5;241;43m.\u001b[39;49m\u001b[43mplot\u001b[49m\u001b[43m(\u001b[49m\n\u001b[1;32m   2813\u001b[0m \u001b[43m        \u001b[49m\u001b[38;5;241;43m*\u001b[39;49m\u001b[43margs\u001b[49m\u001b[43m,\u001b[49m\u001b[43m \u001b[49m\u001b[43mscalex\u001b[49m\u001b[38;5;241;43m=\u001b[39;49m\u001b[43mscalex\u001b[49m\u001b[43m,\u001b[49m\u001b[43m \u001b[49m\u001b[43mscaley\u001b[49m\u001b[38;5;241;43m=\u001b[39;49m\u001b[43mscaley\u001b[49m\u001b[43m,\u001b[49m\n\u001b[1;32m   2814\u001b[0m \u001b[43m        \u001b[49m\u001b[38;5;241;43m*\u001b[39;49m\u001b[38;5;241;43m*\u001b[39;49m\u001b[43m(\u001b[49m\u001b[43m{\u001b[49m\u001b[38;5;124;43m\"\u001b[39;49m\u001b[38;5;124;43mdata\u001b[39;49m\u001b[38;5;124;43m\"\u001b[39;49m\u001b[43m:\u001b[49m\u001b[43m \u001b[49m\u001b[43mdata\u001b[49m\u001b[43m}\u001b[49m\u001b[43m \u001b[49m\u001b[38;5;28;43;01mif\u001b[39;49;00m\u001b[43m \u001b[49m\u001b[43mdata\u001b[49m\u001b[43m \u001b[49m\u001b[38;5;129;43;01mis\u001b[39;49;00m\u001b[43m \u001b[49m\u001b[38;5;129;43;01mnot\u001b[39;49;00m\u001b[43m \u001b[49m\u001b[38;5;28;43;01mNone\u001b[39;49;00m\u001b[43m \u001b[49m\u001b[38;5;28;43;01melse\u001b[39;49;00m\u001b[43m \u001b[49m\u001b[43m{\u001b[49m\u001b[43m}\u001b[49m\u001b[43m)\u001b[49m\u001b[43m,\u001b[49m\u001b[43m \u001b[49m\u001b[38;5;241;43m*\u001b[39;49m\u001b[38;5;241;43m*\u001b[39;49m\u001b[43mkwargs\u001b[49m\u001b[43m)\u001b[49m\n",
      "File \u001b[0;32m/Library/Frameworks/Python.framework/Versions/3.11/lib/python3.11/site-packages/matplotlib/axes/_axes.py:1688\u001b[0m, in \u001b[0;36mAxes.plot\u001b[0;34m(self, scalex, scaley, data, *args, **kwargs)\u001b[0m\n\u001b[1;32m   1445\u001b[0m \u001b[38;5;250m\u001b[39m\u001b[38;5;124;03m\"\"\"\u001b[39;00m\n\u001b[1;32m   1446\u001b[0m \u001b[38;5;124;03mPlot y versus x as lines and/or markers.\u001b[39;00m\n\u001b[1;32m   1447\u001b[0m \n\u001b[0;32m   (...)\u001b[0m\n\u001b[1;32m   1685\u001b[0m \u001b[38;5;124;03m(``'green'``) or hex strings (``'#008000'``).\u001b[39;00m\n\u001b[1;32m   1686\u001b[0m \u001b[38;5;124;03m\"\"\"\u001b[39;00m\n\u001b[1;32m   1687\u001b[0m kwargs \u001b[38;5;241m=\u001b[39m cbook\u001b[38;5;241m.\u001b[39mnormalize_kwargs(kwargs, mlines\u001b[38;5;241m.\u001b[39mLine2D)\n\u001b[0;32m-> 1688\u001b[0m lines \u001b[38;5;241m=\u001b[39m [\u001b[38;5;241m*\u001b[39m\u001b[38;5;28mself\u001b[39m\u001b[38;5;241m.\u001b[39m_get_lines(\u001b[38;5;241m*\u001b[39margs, data\u001b[38;5;241m=\u001b[39mdata, \u001b[38;5;241m*\u001b[39m\u001b[38;5;241m*\u001b[39mkwargs)]\n\u001b[1;32m   1689\u001b[0m \u001b[38;5;28;01mfor\u001b[39;00m line \u001b[38;5;129;01min\u001b[39;00m lines:\n\u001b[1;32m   1690\u001b[0m     \u001b[38;5;28mself\u001b[39m\u001b[38;5;241m.\u001b[39madd_line(line)\n",
      "File \u001b[0;32m/Library/Frameworks/Python.framework/Versions/3.11/lib/python3.11/site-packages/matplotlib/axes/_base.py:311\u001b[0m, in \u001b[0;36m_process_plot_var_args.__call__\u001b[0;34m(self, data, *args, **kwargs)\u001b[0m\n\u001b[1;32m    309\u001b[0m     this \u001b[38;5;241m+\u001b[39m\u001b[38;5;241m=\u001b[39m args[\u001b[38;5;241m0\u001b[39m],\n\u001b[1;32m    310\u001b[0m     args \u001b[38;5;241m=\u001b[39m args[\u001b[38;5;241m1\u001b[39m:]\n\u001b[0;32m--> 311\u001b[0m \u001b[38;5;28;01myield from\u001b[39;00m \u001b[38;5;28;43mself\u001b[39;49m\u001b[38;5;241;43m.\u001b[39;49m\u001b[43m_plot_args\u001b[49m\u001b[43m(\u001b[49m\n\u001b[1;32m    312\u001b[0m \u001b[43m    \u001b[49m\u001b[43mthis\u001b[49m\u001b[43m,\u001b[49m\u001b[43m \u001b[49m\u001b[43mkwargs\u001b[49m\u001b[43m,\u001b[49m\u001b[43m \u001b[49m\u001b[43mambiguous_fmt_datakey\u001b[49m\u001b[38;5;241;43m=\u001b[39;49m\u001b[43mambiguous_fmt_datakey\u001b[49m\u001b[43m)\u001b[49m\n",
      "File \u001b[0;32m/Library/Frameworks/Python.framework/Versions/3.11/lib/python3.11/site-packages/matplotlib/axes/_base.py:504\u001b[0m, in \u001b[0;36m_process_plot_var_args._plot_args\u001b[0;34m(self, tup, kwargs, return_kwargs, ambiguous_fmt_datakey)\u001b[0m\n\u001b[1;32m    501\u001b[0m     \u001b[38;5;28mself\u001b[39m\u001b[38;5;241m.\u001b[39maxes\u001b[38;5;241m.\u001b[39myaxis\u001b[38;5;241m.\u001b[39mupdate_units(y)\n\u001b[1;32m    503\u001b[0m \u001b[38;5;28;01mif\u001b[39;00m x\u001b[38;5;241m.\u001b[39mshape[\u001b[38;5;241m0\u001b[39m] \u001b[38;5;241m!=\u001b[39m y\u001b[38;5;241m.\u001b[39mshape[\u001b[38;5;241m0\u001b[39m]:\n\u001b[0;32m--> 504\u001b[0m     \u001b[38;5;28;01mraise\u001b[39;00m \u001b[38;5;167;01mValueError\u001b[39;00m(\u001b[38;5;124mf\u001b[39m\u001b[38;5;124m\"\u001b[39m\u001b[38;5;124mx and y must have same first dimension, but \u001b[39m\u001b[38;5;124m\"\u001b[39m\n\u001b[1;32m    505\u001b[0m                      \u001b[38;5;124mf\u001b[39m\u001b[38;5;124m\"\u001b[39m\u001b[38;5;124mhave shapes \u001b[39m\u001b[38;5;132;01m{\u001b[39;00mx\u001b[38;5;241m.\u001b[39mshape\u001b[38;5;132;01m}\u001b[39;00m\u001b[38;5;124m and \u001b[39m\u001b[38;5;132;01m{\u001b[39;00my\u001b[38;5;241m.\u001b[39mshape\u001b[38;5;132;01m}\u001b[39;00m\u001b[38;5;124m\"\u001b[39m)\n\u001b[1;32m    506\u001b[0m \u001b[38;5;28;01mif\u001b[39;00m x\u001b[38;5;241m.\u001b[39mndim \u001b[38;5;241m>\u001b[39m \u001b[38;5;241m2\u001b[39m \u001b[38;5;129;01mor\u001b[39;00m y\u001b[38;5;241m.\u001b[39mndim \u001b[38;5;241m>\u001b[39m \u001b[38;5;241m2\u001b[39m:\n\u001b[1;32m    507\u001b[0m     \u001b[38;5;28;01mraise\u001b[39;00m \u001b[38;5;167;01mValueError\u001b[39;00m(\u001b[38;5;124mf\u001b[39m\u001b[38;5;124m\"\u001b[39m\u001b[38;5;124mx and y can be no greater than 2D, but have \u001b[39m\u001b[38;5;124m\"\u001b[39m\n\u001b[1;32m    508\u001b[0m                      \u001b[38;5;124mf\u001b[39m\u001b[38;5;124m\"\u001b[39m\u001b[38;5;124mshapes \u001b[39m\u001b[38;5;132;01m{\u001b[39;00mx\u001b[38;5;241m.\u001b[39mshape\u001b[38;5;132;01m}\u001b[39;00m\u001b[38;5;124m and \u001b[39m\u001b[38;5;132;01m{\u001b[39;00my\u001b[38;5;241m.\u001b[39mshape\u001b[38;5;132;01m}\u001b[39;00m\u001b[38;5;124m\"\u001b[39m)\n",
      "\u001b[0;31mValueError\u001b[0m: x and y must have same first dimension, but have shapes (188,) and (160,)"
     ]
    },
    {
     "data": {
      "image/png": "[encoded data removed]",
      "text/plain": [
       "<Figure size 1000x600 with 1 Axes>"
      ]
     },
     "metadata": {},
     "output_type": "display_data"
    }
   ],
   "source": [
    "fig = plt.figure(figsize=(10,6))\n",
    "plt.plot(x_vals, ll_t_iter_losses, label=\"Linear model (Train)\", c=\"red\")\n",
    "plt.plot(x_vals, bn_ll_t_iter_losses, label=\"Linear model with batch norm (Train)\", c=\"blue\")\n",
    "plt.plot(x_vals, conv_t_iter_losses, label=\"Conv model (Train)\", c=\"yellow\")\n",
    "plt.plot(x_vals, bn_conv_t_iter_losses, label=\"Conv model with batch norm (Train)\", c=\"green\")\n",
    "\n",
    "plt.plot(x_vals_test_data, ll_e_iter_losses, label=\"Linear model (Test)\", linestyle = \"dashed\", c= \"red\")\n",
    "plt.plot(x_vals_test_data, bn_ll_e_iter_losses, label=\"Linear model with batch norm (Test)\", linestyle = \"dashed\", c=\"blue\")\n",
    "plt.plot(x_vals_test_data, conv_e_iter_losses, label=\"Conv model (Test)\", linestyle = \"dashed\", c=\"yellow\")\n",
    "plt.plot(x_vals_test_data, bn_conv_e_iter_losses, label=\"Conv model with batch norm (Test)\", linestyle = \"dashed\", c=\"green\")\n",
    "\n",
    "plt.xlabel('Iterationen * 100')\n",
    "plt.ylabel('training loss')\n",
    "plt.title(\"Training no batch norm vs. batch norm\")\n",
    "plt.legend()\n",
    "plt.show()\n",
    "plt.close()"
   ]
  },
  {
   "cell_type": "code",
   "execution_count": null,
   "metadata": {},
   "outputs": [],
   "source": [
    "#sinav sorusu\n",
    "\n"
   ]
  }
 ],
 "metadata": {
  "kernelspec": {
   "display_name": "Python 3 (ipykernel)",
   "language": "python",
   "name": "python3"
  },
  "language_info": {
   "codemirror_mode": {
    "name": "ipython",
    "version": 3
   },
   "file_extension": ".py",
   "mimetype": "text/x-python",
   "name": "python",
   "nbconvert_exporter": "python",
   "pygments_lexer": "ipython3",
   "version": "3.10.9"
  },
  "vscode": {
   "interpreter": {
    "hash": "25301cabe4c6f833fd20f15b1b22933971919908771eb627a83fe325b4fb6671"
   }
  }
 },
 "nbformat": 4,
 "nbformat_minor": 4
}
