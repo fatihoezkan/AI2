{
 "cells": [
  {
   "cell_type": "markdown",
   "metadata": {},
   "source": [
    "# Optimizer"
   ]
  },
  {
   "cell_type": "raw",
   "metadata": {},
   "source": [
    "We are optimizing out network today using different optimizers:\n",
    "  - SGD\n",
    "  - Momentum\n",
    "  - Adagrad\n",
    "  - RMSProp\n",
    "  - Adam"
   ]
  },
  {
   "cell_type": "markdown",
   "metadata": {},
   "source": [
    "## Initialize the dataset"
   ]
  },
  {
   "cell_type": "code",
   "execution_count": 11,
   "metadata": {},
   "outputs": [],
   "source": [
    "import torch\n",
    "import torchvision\n",
    "import torchvision.transforms as transforms\n",
    "import tqdm\n",
    "\n",
    "def load_mnist_data(root_path='./data', batch_size=4):\n",
    "    transform = transforms.Compose(\n",
    "        [transforms.ToTensor(),\n",
    "        transforms.Normalize((0.5), (0.5))]\n",
    "    )\n",
    "\n",
    "    trainset = torchvision.datasets.MNIST(root=root_path, train=True, download=True, transform=transform)\n",
    "    trainloader = torch.utils.data.DataLoader(trainset, batch_size=batch_size, shuffle=True, num_workers=2)\n",
    "\n",
    "    testset = torchvision.datasets.MNIST(root=root_path, train=False, download=True, transform=transform)\n",
    "    testloader = torch.utils.data.DataLoader(testset, batch_size=batch_size, shuffle=False, num_workers=2)\n",
    "\n",
    "    return trainloader, testloader"
   ]
  },
  {
   "cell_type": "markdown",
   "metadata": {},
   "source": [
    "## Define the neural network structure"
   ]
  },
  {
   "cell_type": "code",
   "execution_count": 12,
   "metadata": {},
   "outputs": [],
   "source": [
    "import torch.nn as nn\n",
    "\n",
    "model = nn.Sequential(\n",
    "    nn.Linear(784, 32),  # input layer (do not change the in_features size of this layer - we need it later)\n",
    "    #nn.ReLU(),\n",
    "    nn.Linear(32, 32),\n",
    "    #nn.ReLU(),\n",
    "    # your layers\n",
    "    nn.Linear(32, 10)  # you can change the in_features of this layer but let the out_features at size 10 here - we need it layer\n",
    ")"
   ]
  },
  {
   "cell_type": "markdown",
   "metadata": {},
   "source": [
    "## Training loop"
   ]
  },
  {
   "cell_type": "code",
   "execution_count": 13,
   "metadata": {},
   "outputs": [],
   "source": [
    "from typing import Callable\n",
    "from torch.optim import Optimizer\n",
    "\n",
    "def train_model(\n",
    "    model: nn.Module, loss_fn: Callable, optimizer: Optimizer,\n",
    "    batch_size: int = 4, epochs: int = 10\n",
    "):\n",
    "    # we only consider the mnist train data for this example\n",
    "    train_loader, _ = load_mnist_data(batch_size=batch_size)\n",
    "\n",
    "    losss = []\n",
    "\n",
    "    device = torch.device('cuda') if torch.cuda.is_available() else torch.device('cpu')\n",
    "    criterion = loss_fn\n",
    "\n",
    "    for epoch in range(epochs):\n",
    "        running_loss = 0.0\n",
    "        running_accuracy = []\n",
    "        for imgs, targets in tqdm.tqdm(train_loader, desc=f'Training iteration {epoch + 1}'):\n",
    "            imgs, targets = imgs.to(device=device), targets.to(device=device)\n",
    "\n",
    "            # zero the parameter gradients\n",
    "            optimizer.zero_grad()\n",
    "\n",
    "            # forward + backward + optimize\n",
    "            outputs = model(imgs.reshape(imgs.shape[0], -1))\n",
    "            loss = criterion(outputs, targets)\n",
    "            loss.backward()\n",
    "            optimizer.step()\n",
    "\n",
    "            # print statistics\n",
    "            \n",
    "\n",
    "            running_loss += loss.item()\n",
    "\n",
    "            # Calculate the Accuracy (how many of all samples are correctly classified?)\n",
    "            max_outputs = torch.max(outputs, dim=1).indices\n",
    "            accuracy = (max_outputs.detach() == targets.detach()).to(dtype=torch.float32).mean()\n",
    "            running_accuracy.append(accuracy)\n",
    "\n",
    "        mean_loss = []\n",
    "        mean_loss.append(running_loss / len(train_loader))\n",
    "        mean_accuracy = []\n",
    "        mean_accuracy.append(torch.tensor(running_accuracy).mean())\n",
    "        print(f'Epoch {epoch + 1} finished with loss: {mean_loss} and accuracy {mean_accuracy}')\n",
    "\n",
    "        print(f'Epoch {epoch + 1} finished with loss: {running_loss / len(train_loader):.3f} and accuracy {torch.tensor(running_accuracy).mean():.3f}')\n",
    "\n",
    "    return mean_loss"
   ]
  },
  {
   "cell_type": "markdown",
   "metadata": {},
   "source": [
    "## Define the optimizers"
   ]
  },
  {
   "cell_type": "code",
   "execution_count": 14,
   "metadata": {},
   "outputs": [],
   "source": [
    "from torch.optim import SGD, Adagrad, RMSprop, Adam \n",
    "\n",
    "# Your code here\n",
    "\n",
    "\n",
    "def my_SGD(model):\n",
    "    optimizer = SGD(model.parameters(), lr = 0.001)\n",
    "    return optimizer\n",
    "\n",
    "def my_SGD_momentum(model):\n",
    "    optimizer = SGD(model.parameters(), lr=0.001, momentum=0.9)\n",
    "    return optimizer\n",
    "\n",
    "def my_Adagrad(model):\n",
    "    optimizer = Adagrad(model.parameters(), lr=0.001)\n",
    "    return optimizer\n",
    "\n",
    "def my_RMSprop(model):\n",
    "    optimizer = RMSprop(model.parameters(), lr=0.001)\n",
    "    return optimizer\n",
    "\n",
    "def my_Adam(model):\n",
    "    optimizer = Adam(model.parameters(), lr=0.001)\n",
    "    return optimizer\n",
    "\n"
   ]
  },
  {
   "cell_type": "markdown",
   "metadata": {},
   "source": [
    "## Run the training loop with different optimizers"
   ]
  },
  {
   "cell_type": "raw",
   "metadata": {},
   "source": [
    "Don't forget to always use the same default model (same parameters / weights to start from).\n",
    "E. g. initialize the model and copy the model every time for each optimizer (e. g. with copy.deepcopy)"
   ]
  },
  {
   "cell_type": "code",
   "execution_count": 15,
   "metadata": {},
   "outputs": [
    {
     "name": "stderr",
     "output_type": "stream",
     "text": [
      "Training iteration 1: 100%|██████████| 15000/15000 [00:08<00:00, 1755.14it/s]\n"
     ]
    },
    {
     "name": "stdout",
     "output_type": "stream",
     "text": [
      "Epoch 1 finished with loss: [0.6834096931566407] and accuracy [tensor(0.8119)]\n",
      "Epoch 1 finished with loss: 0.683 and accuracy 0.812\n"
     ]
    },
    {
     "name": "stderr",
     "output_type": "stream",
     "text": [
      "Training iteration 2: 100%|██████████| 15000/15000 [00:08<00:00, 1731.99it/s]\n"
     ]
    },
    {
     "name": "stdout",
     "output_type": "stream",
     "text": [
      "Epoch 2 finished with loss: [0.34312622307644536] and accuracy [tensor(0.9008)]\n",
      "Epoch 2 finished with loss: 0.343 and accuracy 0.901\n"
     ]
    },
    {
     "name": "stderr",
     "output_type": "stream",
     "text": [
      "Training iteration 3: 100%|██████████| 15000/15000 [00:08<00:00, 1765.73it/s]\n"
     ]
    },
    {
     "name": "stdout",
     "output_type": "stream",
     "text": [
      "Epoch 3 finished with loss: [0.3165232943756739] and accuracy [tensor(0.9089)]\n",
      "Epoch 3 finished with loss: 0.317 and accuracy 0.909\n"
     ]
    },
    {
     "name": "stderr",
     "output_type": "stream",
     "text": [
      "Training iteration 4: 100%|██████████| 15000/15000 [00:08<00:00, 1742.49it/s]\n"
     ]
    },
    {
     "name": "stdout",
     "output_type": "stream",
     "text": [
      "Epoch 4 finished with loss: [0.3046761655395928] and accuracy [tensor(0.9134)]\n",
      "Epoch 4 finished with loss: 0.305 and accuracy 0.913\n"
     ]
    },
    {
     "name": "stderr",
     "output_type": "stream",
     "text": [
      "Training iteration 5: 100%|██████████| 15000/15000 [00:08<00:00, 1756.67it/s]\n"
     ]
    },
    {
     "name": "stdout",
     "output_type": "stream",
     "text": [
      "Epoch 5 finished with loss: [0.29764723153677963] and accuracy [tensor(0.9156)]\n",
      "Epoch 5 finished with loss: 0.298 and accuracy 0.916\n"
     ]
    },
    {
     "name": "stderr",
     "output_type": "stream",
     "text": [
      "Training iteration 6: 100%|██████████| 15000/15000 [00:08<00:00, 1762.71it/s]\n"
     ]
    },
    {
     "name": "stdout",
     "output_type": "stream",
     "text": [
      "Epoch 6 finished with loss: [0.29186574572380825] and accuracy [tensor(0.9177)]\n",
      "Epoch 6 finished with loss: 0.292 and accuracy 0.918\n"
     ]
    },
    {
     "name": "stderr",
     "output_type": "stream",
     "text": [
      "Training iteration 7: 100%|██████████| 15000/15000 [00:08<00:00, 1769.81it/s]\n"
     ]
    },
    {
     "name": "stdout",
     "output_type": "stream",
     "text": [
      "Epoch 7 finished with loss: [0.2887038177353951] and accuracy [tensor(0.9177)]\n",
      "Epoch 7 finished with loss: 0.289 and accuracy 0.918\n"
     ]
    },
    {
     "name": "stderr",
     "output_type": "stream",
     "text": [
      "Training iteration 8: 100%|██████████| 15000/15000 [00:08<00:00, 1764.09it/s]\n"
     ]
    },
    {
     "name": "stdout",
     "output_type": "stream",
     "text": [
      "Epoch 8 finished with loss: [0.28526466441278076] and accuracy [tensor(0.9193)]\n",
      "Epoch 8 finished with loss: 0.285 and accuracy 0.919\n"
     ]
    },
    {
     "name": "stderr",
     "output_type": "stream",
     "text": [
      "Training iteration 9: 100%|██████████| 15000/15000 [00:08<00:00, 1749.02it/s]\n"
     ]
    },
    {
     "name": "stdout",
     "output_type": "stream",
     "text": [
      "Epoch 9 finished with loss: [0.2816516827091031] and accuracy [tensor(0.9198)]\n",
      "Epoch 9 finished with loss: 0.282 and accuracy 0.920\n"
     ]
    },
    {
     "name": "stderr",
     "output_type": "stream",
     "text": [
      "Training iteration 10: 100%|██████████| 15000/15000 [00:08<00:00, 1749.55it/s]\n"
     ]
    },
    {
     "name": "stdout",
     "output_type": "stream",
     "text": [
      "Epoch 10 finished with loss: [0.28027508812286545] and accuracy [tensor(0.9215)]\n",
      "Epoch 10 finished with loss: 0.280 and accuracy 0.921\n"
     ]
    },
    {
     "name": "stderr",
     "output_type": "stream",
     "text": [
      "Training iteration 1: 100%|██████████| 15000/15000 [00:08<00:00, 1772.37it/s]\n"
     ]
    },
    {
     "name": "stdout",
     "output_type": "stream",
     "text": [
      "Epoch 1 finished with loss: [0.4356766108324072] and accuracy [tensor(0.8700)]\n",
      "Epoch 1 finished with loss: 0.436 and accuracy 0.870\n"
     ]
    },
    {
     "name": "stderr",
     "output_type": "stream",
     "text": [
      "Training iteration 2: 100%|██████████| 15000/15000 [00:08<00:00, 1791.07it/s]\n"
     ]
    },
    {
     "name": "stdout",
     "output_type": "stream",
     "text": [
      "Epoch 2 finished with loss: [0.34750528580892426] and accuracy [tensor(0.8995)]\n",
      "Epoch 2 finished with loss: 0.348 and accuracy 0.899\n"
     ]
    },
    {
     "name": "stderr",
     "output_type": "stream",
     "text": [
      "Training iteration 3: 100%|██████████| 15000/15000 [00:08<00:00, 1804.32it/s]\n"
     ]
    },
    {
     "name": "stdout",
     "output_type": "stream",
     "text": [
      "Epoch 3 finished with loss: [0.33741431812492373] and accuracy [tensor(0.9024)]\n",
      "Epoch 3 finished with loss: 0.337 and accuracy 0.902\n"
     ]
    },
    {
     "name": "stderr",
     "output_type": "stream",
     "text": [
      "Training iteration 4: 100%|██████████| 15000/15000 [00:08<00:00, 1783.32it/s]\n"
     ]
    },
    {
     "name": "stdout",
     "output_type": "stream",
     "text": [
      "Epoch 4 finished with loss: [0.3306077141562399] and accuracy [tensor(0.9038)]\n",
      "Epoch 4 finished with loss: 0.331 and accuracy 0.904\n"
     ]
    },
    {
     "name": "stderr",
     "output_type": "stream",
     "text": [
      "Training iteration 5: 100%|██████████| 15000/15000 [00:08<00:00, 1703.33it/s]\n"
     ]
    },
    {
     "name": "stdout",
     "output_type": "stream",
     "text": [
      "Epoch 5 finished with loss: [0.32516911134870313] and accuracy [tensor(0.9058)]\n",
      "Epoch 5 finished with loss: 0.325 and accuracy 0.906\n"
     ]
    },
    {
     "name": "stderr",
     "output_type": "stream",
     "text": [
      "Training iteration 6: 100%|██████████| 15000/15000 [00:08<00:00, 1794.25it/s]\n"
     ]
    },
    {
     "name": "stdout",
     "output_type": "stream",
     "text": [
      "Epoch 6 finished with loss: [0.3234372782005162] and accuracy [tensor(0.9071)]\n",
      "Epoch 6 finished with loss: 0.323 and accuracy 0.907\n"
     ]
    },
    {
     "name": "stderr",
     "output_type": "stream",
     "text": [
      "Training iteration 7: 100%|██████████| 15000/15000 [00:08<00:00, 1790.42it/s]\n"
     ]
    },
    {
     "name": "stdout",
     "output_type": "stream",
     "text": [
      "Epoch 7 finished with loss: [0.3198214598294221] and accuracy [tensor(0.9075)]\n",
      "Epoch 7 finished with loss: 0.320 and accuracy 0.908\n"
     ]
    },
    {
     "name": "stderr",
     "output_type": "stream",
     "text": [
      "Training iteration 8: 100%|██████████| 15000/15000 [00:08<00:00, 1772.23it/s]\n"
     ]
    },
    {
     "name": "stdout",
     "output_type": "stream",
     "text": [
      "Epoch 8 finished with loss: [0.3163759717529315] and accuracy [tensor(0.9101)]\n",
      "Epoch 8 finished with loss: 0.316 and accuracy 0.910\n"
     ]
    },
    {
     "name": "stderr",
     "output_type": "stream",
     "text": [
      "Training iteration 9: 100%|██████████| 15000/15000 [00:08<00:00, 1749.36it/s]\n"
     ]
    },
    {
     "name": "stdout",
     "output_type": "stream",
     "text": [
      "Epoch 9 finished with loss: [0.31630976524322757] and accuracy [tensor(0.9106)]\n",
      "Epoch 9 finished with loss: 0.316 and accuracy 0.911\n"
     ]
    },
    {
     "name": "stderr",
     "output_type": "stream",
     "text": [
      "Training iteration 10: 100%|██████████| 15000/15000 [00:08<00:00, 1799.80it/s]\n"
     ]
    },
    {
     "name": "stdout",
     "output_type": "stream",
     "text": [
      "Epoch 10 finished with loss: [0.3121415123459951] and accuracy [tensor(0.9112)]\n",
      "Epoch 10 finished with loss: 0.312 and accuracy 0.911\n"
     ]
    },
    {
     "name": "stderr",
     "output_type": "stream",
     "text": [
      "Training iteration 1: 100%|██████████| 15000/15000 [00:10<00:00, 1377.04it/s]\n"
     ]
    },
    {
     "name": "stdout",
     "output_type": "stream",
     "text": [
      "Epoch 1 finished with loss: [0.7362900041304529] and accuracy [tensor(0.8190)]\n",
      "Epoch 1 finished with loss: 0.736 and accuracy 0.819\n"
     ]
    },
    {
     "name": "stderr",
     "output_type": "stream",
     "text": [
      "Training iteration 2: 100%|██████████| 15000/15000 [00:10<00:00, 1381.50it/s]\n"
     ]
    },
    {
     "name": "stdout",
     "output_type": "stream",
     "text": [
      "Epoch 2 finished with loss: [0.4604557782638197] and accuracy [tensor(0.8742)]\n",
      "Epoch 2 finished with loss: 0.460 and accuracy 0.874\n"
     ]
    },
    {
     "name": "stderr",
     "output_type": "stream",
     "text": [
      "Training iteration 3: 100%|██████████| 15000/15000 [00:10<00:00, 1401.45it/s]\n"
     ]
    },
    {
     "name": "stdout",
     "output_type": "stream",
     "text": [
      "Epoch 3 finished with loss: [0.41447637441263846] and accuracy [tensor(0.8839)]\n",
      "Epoch 3 finished with loss: 0.414 and accuracy 0.884\n"
     ]
    },
    {
     "name": "stderr",
     "output_type": "stream",
     "text": [
      "Training iteration 4: 100%|██████████| 15000/15000 [00:10<00:00, 1377.98it/s]\n"
     ]
    },
    {
     "name": "stdout",
     "output_type": "stream",
     "text": [
      "Epoch 4 finished with loss: [0.3918204937538287] and accuracy [tensor(0.8893)]\n",
      "Epoch 4 finished with loss: 0.392 and accuracy 0.889\n"
     ]
    },
    {
     "name": "stderr",
     "output_type": "stream",
     "text": [
      "Training iteration 5: 100%|██████████| 15000/15000 [00:10<00:00, 1366.37it/s]\n"
     ]
    },
    {
     "name": "stdout",
     "output_type": "stream",
     "text": [
      "Epoch 5 finished with loss: [0.3775020522676098] and accuracy [tensor(0.8928)]\n",
      "Epoch 5 finished with loss: 0.378 and accuracy 0.893\n"
     ]
    },
    {
     "name": "stderr",
     "output_type": "stream",
     "text": [
      "Training iteration 6: 100%|██████████| 15000/15000 [00:10<00:00, 1384.28it/s]\n"
     ]
    },
    {
     "name": "stdout",
     "output_type": "stream",
     "text": [
      "Epoch 6 finished with loss: [0.3674058212968676] and accuracy [tensor(0.8951)]\n",
      "Epoch 6 finished with loss: 0.367 and accuracy 0.895\n"
     ]
    },
    {
     "name": "stderr",
     "output_type": "stream",
     "text": [
      "Training iteration 7: 100%|██████████| 15000/15000 [00:10<00:00, 1376.75it/s]\n"
     ]
    },
    {
     "name": "stdout",
     "output_type": "stream",
     "text": [
      "Epoch 7 finished with loss: [0.3597657055422353] and accuracy [tensor(0.8974)]\n",
      "Epoch 7 finished with loss: 0.360 and accuracy 0.897\n"
     ]
    },
    {
     "name": "stderr",
     "output_type": "stream",
     "text": [
      "Training iteration 8: 100%|██████████| 15000/15000 [00:11<00:00, 1314.79it/s]\n"
     ]
    },
    {
     "name": "stdout",
     "output_type": "stream",
     "text": [
      "Epoch 8 finished with loss: [0.3537966029918908] and accuracy [tensor(0.8992)]\n",
      "Epoch 8 finished with loss: 0.354 and accuracy 0.899\n"
     ]
    },
    {
     "name": "stderr",
     "output_type": "stream",
     "text": [
      "Training iteration 9: 100%|██████████| 15000/15000 [00:10<00:00, 1385.06it/s]\n"
     ]
    },
    {
     "name": "stdout",
     "output_type": "stream",
     "text": [
      "Epoch 9 finished with loss: [0.34888298012231633] and accuracy [tensor(0.9004)]\n",
      "Epoch 9 finished with loss: 0.349 and accuracy 0.900\n"
     ]
    },
    {
     "name": "stderr",
     "output_type": "stream",
     "text": [
      "Training iteration 10: 100%|██████████| 15000/15000 [00:10<00:00, 1379.72it/s]\n"
     ]
    },
    {
     "name": "stdout",
     "output_type": "stream",
     "text": [
      "Epoch 10 finished with loss: [0.3447605465526615] and accuracy [tensor(0.9019)]\n",
      "Epoch 10 finished with loss: 0.345 and accuracy 0.902\n"
     ]
    },
    {
     "name": "stderr",
     "output_type": "stream",
     "text": [
      "Training iteration 1: 100%|██████████| 15000/15000 [00:10<00:00, 1380.67it/s]\n"
     ]
    },
    {
     "name": "stdout",
     "output_type": "stream",
     "text": [
      "Epoch 1 finished with loss: [0.44168882861738096] and accuracy [tensor(0.8676)]\n",
      "Epoch 1 finished with loss: 0.442 and accuracy 0.868\n"
     ]
    },
    {
     "name": "stderr",
     "output_type": "stream",
     "text": [
      "Training iteration 2: 100%|██████████| 15000/15000 [00:10<00:00, 1380.26it/s]\n"
     ]
    },
    {
     "name": "stdout",
     "output_type": "stream",
     "text": [
      "Epoch 2 finished with loss: [0.37142484801239917] and accuracy [tensor(0.8912)]\n",
      "Epoch 2 finished with loss: 0.371 and accuracy 0.891\n"
     ]
    },
    {
     "name": "stderr",
     "output_type": "stream",
     "text": [
      "Training iteration 3: 100%|██████████| 15000/15000 [00:10<00:00, 1400.72it/s]\n"
     ]
    },
    {
     "name": "stdout",
     "output_type": "stream",
     "text": [
      "Epoch 3 finished with loss: [0.3530073360733678] and accuracy [tensor(0.8978)]\n",
      "Epoch 3 finished with loss: 0.353 and accuracy 0.898\n"
     ]
    },
    {
     "name": "stderr",
     "output_type": "stream",
     "text": [
      "Training iteration 4: 100%|██████████| 15000/15000 [00:10<00:00, 1387.49it/s]\n"
     ]
    },
    {
     "name": "stdout",
     "output_type": "stream",
     "text": [
      "Epoch 4 finished with loss: [0.3407016025918987] and accuracy [tensor(0.9019)]\n",
      "Epoch 4 finished with loss: 0.341 and accuracy 0.902\n"
     ]
    },
    {
     "name": "stderr",
     "output_type": "stream",
     "text": [
      "Training iteration 5: 100%|██████████| 15000/15000 [00:10<00:00, 1401.14it/s]\n"
     ]
    },
    {
     "name": "stdout",
     "output_type": "stream",
     "text": [
      "Epoch 5 finished with loss: [0.3327020186891818] and accuracy [tensor(0.9042)]\n",
      "Epoch 5 finished with loss: 0.333 and accuracy 0.904\n"
     ]
    },
    {
     "name": "stderr",
     "output_type": "stream",
     "text": [
      "Training iteration 6: 100%|██████████| 15000/15000 [00:10<00:00, 1394.00it/s]\n"
     ]
    },
    {
     "name": "stdout",
     "output_type": "stream",
     "text": [
      "Epoch 6 finished with loss: [0.3270243570951095] and accuracy [tensor(0.9063)]\n",
      "Epoch 6 finished with loss: 0.327 and accuracy 0.906\n"
     ]
    },
    {
     "name": "stderr",
     "output_type": "stream",
     "text": [
      "Training iteration 7: 100%|██████████| 15000/15000 [00:10<00:00, 1388.11it/s]\n"
     ]
    },
    {
     "name": "stdout",
     "output_type": "stream",
     "text": [
      "Epoch 7 finished with loss: [0.322449232362917] and accuracy [tensor(0.9072)]\n",
      "Epoch 7 finished with loss: 0.322 and accuracy 0.907\n"
     ]
    },
    {
     "name": "stderr",
     "output_type": "stream",
     "text": [
      "Training iteration 8: 100%|██████████| 15000/15000 [00:10<00:00, 1399.13it/s]\n"
     ]
    },
    {
     "name": "stdout",
     "output_type": "stream",
     "text": [
      "Epoch 8 finished with loss: [0.3180408834318485] and accuracy [tensor(0.9087)]\n",
      "Epoch 8 finished with loss: 0.318 and accuracy 0.909\n"
     ]
    },
    {
     "name": "stderr",
     "output_type": "stream",
     "text": [
      "Training iteration 9: 100%|██████████| 15000/15000 [00:10<00:00, 1386.62it/s]\n"
     ]
    },
    {
     "name": "stdout",
     "output_type": "stream",
     "text": [
      "Epoch 9 finished with loss: [0.316547649720828] and accuracy [tensor(0.9096)]\n",
      "Epoch 9 finished with loss: 0.317 and accuracy 0.910\n"
     ]
    },
    {
     "name": "stderr",
     "output_type": "stream",
     "text": [
      "Training iteration 10: 100%|██████████| 15000/15000 [00:10<00:00, 1364.67it/s]\n"
     ]
    },
    {
     "name": "stdout",
     "output_type": "stream",
     "text": [
      "Epoch 10 finished with loss: [0.31348188521871345] and accuracy [tensor(0.9115)]\n",
      "Epoch 10 finished with loss: 0.313 and accuracy 0.911\n"
     ]
    },
    {
     "name": "stderr",
     "output_type": "stream",
     "text": [
      "Training iteration 1: 100%|██████████| 15000/15000 [00:11<00:00, 1284.58it/s]\n"
     ]
    },
    {
     "name": "stdout",
     "output_type": "stream",
     "text": [
      "Epoch 1 finished with loss: [0.4418227710534547] and accuracy [tensor(0.8692)]\n",
      "Epoch 1 finished with loss: 0.442 and accuracy 0.869\n"
     ]
    },
    {
     "name": "stderr",
     "output_type": "stream",
     "text": [
      "Training iteration 2: 100%|██████████| 15000/15000 [00:11<00:00, 1265.91it/s]\n"
     ]
    },
    {
     "name": "stdout",
     "output_type": "stream",
     "text": [
      "Epoch 2 finished with loss: [0.37007109985347875] and accuracy [tensor(0.8922)]\n",
      "Epoch 2 finished with loss: 0.370 and accuracy 0.892\n"
     ]
    },
    {
     "name": "stderr",
     "output_type": "stream",
     "text": [
      "Training iteration 3: 100%|██████████| 15000/15000 [00:11<00:00, 1267.06it/s]\n"
     ]
    },
    {
     "name": "stdout",
     "output_type": "stream",
     "text": [
      "Epoch 3 finished with loss: [0.3515953812985506] and accuracy [tensor(0.8993)]\n",
      "Epoch 3 finished with loss: 0.352 and accuracy 0.899\n"
     ]
    },
    {
     "name": "stderr",
     "output_type": "stream",
     "text": [
      "Training iteration 4: 100%|██████████| 15000/15000 [00:11<00:00, 1269.68it/s]\n"
     ]
    },
    {
     "name": "stdout",
     "output_type": "stream",
     "text": [
      "Epoch 4 finished with loss: [0.3398426719826879] and accuracy [tensor(0.9021)]\n",
      "Epoch 4 finished with loss: 0.340 and accuracy 0.902\n"
     ]
    },
    {
     "name": "stderr",
     "output_type": "stream",
     "text": [
      "Training iteration 5: 100%|██████████| 15000/15000 [00:11<00:00, 1279.69it/s]\n"
     ]
    },
    {
     "name": "stdout",
     "output_type": "stream",
     "text": [
      "Epoch 5 finished with loss: [0.3313336527903773] and accuracy [tensor(0.9043)]\n",
      "Epoch 5 finished with loss: 0.331 and accuracy 0.904\n"
     ]
    },
    {
     "name": "stderr",
     "output_type": "stream",
     "text": [
      "Training iteration 6: 100%|██████████| 15000/15000 [00:11<00:00, 1257.80it/s]\n"
     ]
    },
    {
     "name": "stdout",
     "output_type": "stream",
     "text": [
      "Epoch 6 finished with loss: [0.32513499799555184] and accuracy [tensor(0.9071)]\n",
      "Epoch 6 finished with loss: 0.325 and accuracy 0.907\n"
     ]
    },
    {
     "name": "stderr",
     "output_type": "stream",
     "text": [
      "Training iteration 7: 100%|██████████| 15000/15000 [00:11<00:00, 1253.94it/s]\n"
     ]
    },
    {
     "name": "stdout",
     "output_type": "stream",
     "text": [
      "Epoch 7 finished with loss: [0.3226588127644868] and accuracy [tensor(0.9065)]\n",
      "Epoch 7 finished with loss: 0.323 and accuracy 0.907\n"
     ]
    },
    {
     "name": "stderr",
     "output_type": "stream",
     "text": [
      "Training iteration 8: 100%|██████████| 15000/15000 [00:11<00:00, 1284.18it/s]\n"
     ]
    },
    {
     "name": "stdout",
     "output_type": "stream",
     "text": [
      "Epoch 8 finished with loss: [0.3168690648166346] and accuracy [tensor(0.9091)]\n",
      "Epoch 8 finished with loss: 0.317 and accuracy 0.909\n"
     ]
    },
    {
     "name": "stderr",
     "output_type": "stream",
     "text": [
      "Training iteration 9: 100%|██████████| 15000/15000 [00:11<00:00, 1263.56it/s]\n"
     ]
    },
    {
     "name": "stdout",
     "output_type": "stream",
     "text": [
      "Epoch 9 finished with loss: [0.3151261907659122] and accuracy [tensor(0.9109)]\n",
      "Epoch 9 finished with loss: 0.315 and accuracy 0.911\n"
     ]
    },
    {
     "name": "stderr",
     "output_type": "stream",
     "text": [
      "Training iteration 10: 100%|██████████| 15000/15000 [00:11<00:00, 1266.52it/s]"
     ]
    },
    {
     "name": "stdout",
     "output_type": "stream",
     "text": [
      "Epoch 10 finished with loss: [0.31164422806085007] and accuracy [tensor(0.9118)]\n",
      "Epoch 10 finished with loss: 0.312 and accuracy 0.912\n",
      "{'my_SGD': [0.28027508812286545], 'my_SGD_momentum': [0.3121415123459951], 'my_Adagrad': [0.3447605465526615], 'my_RMSprop': [0.31348188521871345], 'my_Adam': [0.31164422806085007]}\n"
     ]
    },
    {
     "name": "stderr",
     "output_type": "stream",
     "text": [
      "\n"
     ]
    }
   ],
   "source": [
    "\n",
    "import copy\n",
    "\n",
    "results = {}\n",
    "ops = ['my_SGD', 'my_SGD_momentum', 'my_Adagrad', 'my_RMSprop', 'my_Adam']\n",
    "C = nn.CrossEntropyLoss()\n",
    "\n",
    "lr = 0.001\n",
    "momentum = 0.9\n",
    "\n",
    "for i in ops:\n",
    "    COPY_model = copy.deepcopy(model)\n",
    "    if i == 'my_SGD':\n",
    "        results[i] = train_model(COPY_model, C, my_SGD(COPY_model), batch_size=4, epochs=10)\n",
    "    elif i == 'my_SGD_momentum':\n",
    "        results[i] = train_model(COPY_model, C, my_SGD_momentum(COPY_model), batch_size=4, epochs=10)\n",
    "    elif i == 'my_Adagrad':\n",
    "        results[i] = train_model(COPY_model, C, my_Adagrad(COPY_model), batch_size=4, epochs=10)\n",
    "    elif i == 'my_RMSprop':\n",
    "        results[i] = train_model(COPY_model, C, my_RMSprop(COPY_model), batch_size=4, epochs=10)\n",
    "    elif i == 'my_Adam':\n",
    "        results[i] = train_model(COPY_model, C, my_Adam(COPY_model), batch_size=4, epochs=10)\n",
    "\n",
    "print(results)\n",
    "\n",
    "\n",
    "\n"
   ]
  },
  {
   "cell_type": "markdown",
   "metadata": {},
   "source": [
    "## Visualize the results of the optimizers / losses"
   ]
  },
  {
   "cell_type": "code",
   "execution_count": 16,
   "metadata": {},
   "outputs": [
    {
     "name": "stdout",
     "output_type": "stream",
     "text": [
      "{'my_SGD': [0.28027508812286545], 'my_SGD_momentum': [0.3121415123459951], 'my_Adagrad': [0.3447605465526615], 'my_RMSprop': [0.31348188521871345], 'my_Adam': [0.31164422806085007]}\n"
     ]
    }
   ],
   "source": [
    "# Plot the results with matplotlib and show the difference in convergence speed with different optimizers.\n",
    "# Plot the decreasing loss of each model with each optimizer\n",
    "\n",
    "# Your code here\n",
    "print(results)\n"
   ]
  },
  {
   "cell_type": "code",
   "execution_count": 17,
   "metadata": {},
   "outputs": [
    {
     "data": {
      "image/png": "[encoded data removed]",
      "text/plain": [
       "<Figure size 1000x600 with 1 Axes>"
      ]
     },
     "metadata": {},
     "output_type": "display_data"
    }
   ],
   "source": [
    "import matplotlib.pyplot as plt\n",
    "\n",
    "# Extract optimizer names and corresponding loss values\n",
    "optimizers = list(results.keys())\n",
    "loss_values = [result[0] for result in results.values()]\n",
    "\n",
    "# Plotting with a bar chart\n",
    "plt.figure(figsize=(10, 6))\n",
    "plt.bar(optimizers, loss_values, color=['blue', 'orange', 'green', 'red', 'purple'])\n",
    "plt.title('Loss with Different Optimizers')\n",
    "plt.xlabel('Optimizer')\n",
    "plt.ylabel('Loss')\n",
    "plt.show()\n"
   ]
  }
 ],
 "metadata": {
  "kernelspec": {
   "display_name": "Python 3.9.13 ('aai_2')",
   "language": "python",
   "name": "python3"
  },
  "language_info": {
   "codemirror_mode": {
    "name": "ipython",
    "version": 3
   },
   "file_extension": ".py",
   "mimetype": "text/x-python",
   "name": "python",
   "nbconvert_exporter": "python",
   "pygments_lexer": "ipython3",
   "version": "3.9.0"
  },
  "orig_nbformat": 4,
  "vscode": {
   "interpreter": {
    "hash": "25301cabe4c6f833fd20f15b1b22933971919908771eb627a83fe325b4fb6671"
   }
  }
 },
 "nbformat": 4,
 "nbformat_minor": 2
}
